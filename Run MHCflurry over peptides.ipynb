{
 "cells": [
  {
   "cell_type": "code",
   "execution_count": 21,
   "id": "b67a05d1-de6c-4ab8-b0c9-77381372b303",
   "metadata": {},
   "outputs": [],
   "source": [
    "from collections import defaultdict\n",
    "from tqdm import tqdm\n",
    "import pandas as pd"
   ]
  },
  {
   "cell_type": "code",
   "execution_count": 24,
   "id": "194eca8d-2191-4108-a390-3d3ae351d686",
   "metadata": {},
   "outputs": [
    {
     "name": "stderr",
     "output_type": "stream",
     "text": [
      "100%|█████████████████████████████████████████████████████████████████████████████████████████████████████████████████████████████████████████████████████████████████████| 364208/364208 [00:00<00:00, 813005.47it/s]"
     ]
    },
    {
     "name": "stdout",
     "output_type": "stream",
     "text": [
      "77893 unique protein seqs, 27595 read IDs, 137472 total entries\n"
     ]
    },
    {
     "name": "stderr",
     "output_type": "stream",
     "text": [
      "\n"
     ]
    }
   ],
   "source": [
    "orf_id_to_seqs = defaultdict(list)\n",
    "seq_to_orf_ids = defaultdict(list)\n",
    "read_id_to_seqs = defaultdict(list)\n",
    "rows = []\n",
    "curr_id = None\n",
    "curr_lines = []\n",
    "def add_line():\n",
    "    global curr_id\n",
    "    global curr_lines\n",
    "    if curr_id:\n",
    "        prot = \"\".join(curr_lines).replace(\"*\", \"\")\n",
    "        seq_to_orf_ids[prot].append(curr_id)\n",
    "        \n",
    "        orf_id_to_seqs[curr_id].append(prot)\n",
    "        read_id = \"_\".join(curr_id.split(\"_\")[2:])\n",
    "        read_id_to_seqs[read_id].append(prot)\n",
    "        seq_to_read_ids[prot].append(read_id)\n",
    "        rows.append({\"seq\": prot, \"ORF\": curr_id, \"read_id\": read_id})\n",
    "    curr_lines = []\n",
    "    curr_id = None      \n",
    "with open(\"data/translated_reads_v2.fa\") as f:\n",
    "    for l in tqdm(f.read().splitlines()):\n",
    "        if l.startswith(\">\"):\n",
    "            add_line()    \n",
    "            curr_id = l[1:].strip()\n",
    "        else:\n",
    "            l = l.strip()\n",
    "            if l:\n",
    "                curr_lines.append(l)\n",
    "            else:\n",
    "                print(\"WARNING: blank line\")\n",
    "add_line()\n",
    "df_seqs = pd.DataFrame(rows)\n",
    "print(\"%d unique protein seqs, %d read IDs, %d total entries\" % (len(seq_to_read_ids), len(read_id_to_seqs), len(orf_id_to_seqs)))"
   ]
  },
  {
   "cell_type": "code",
   "execution_count": 26,
   "id": "1496c9a4-e417-4768-8058-6e73546cc88b",
   "metadata": {},
   "outputs": [
    {
     "name": "stderr",
     "output_type": "stream",
     "text": [
      "100%|██████████████████████████████████████████████████████████████████████████████████████████████████████████████████████████████████████████████████████████████████████████| 77893/77893 [03:45<00:00, 345.67it/s]\n"
     ]
    }
   ],
   "source": [
    "peptide_to_source_seqs = defaultdict(set)\n",
    "peptide_to_source_read_ids = defaultdict(set)\n",
    "peptide_to_source_orf_ids = defaultdict(set)\n",
    "\n",
    "for seq, orf_ids in tqdm(list(seq_to_orf_ids.items())):\n",
    "    n = len(seq)\n",
    "    read_ids = [\n",
    "        \"_\".join(orf_id.split(\"_\")[2:])\n",
    "        for orf_id in orf_ids\n",
    "    ]\n",
    "    \n",
    "    for k in [8, 9, 10, 11]:\n",
    "        for i in range(n - k + 1):\n",
    "            p = seq[i:i + k]\n",
    "            peptide_to_source_seqs[p].add(seq)\n",
    "            peptide_to_source_orf_ids[p].update(orf_ids)\n",
    "            peptide_to_source_read_ids[p].update(read_ids)"
   ]
  },
  {
   "cell_type": "code",
   "execution_count": 27,
   "id": "88ce81db-7b1d-44d8-aefd-22d1caf32b23",
   "metadata": {},
   "outputs": [
    {
     "name": "stderr",
     "output_type": "stream",
     "text": [
      "  0%|                                                                                                                                                                      | 7009/15329165 [01:29<9:54:29, 429.56it/s]Exception ignored in: <bound method IPythonKernel._clean_thread_parent_frames of <ipykernel.ipkernel.IPythonKernel object at 0x111519250>>\n",
      "Traceback (most recent call last):\n",
      "  File \"/Users/iskander/code/shared-virtual-env/lib/python3.12/site-packages/ipykernel/ipkernel.py\", line 775, in _clean_thread_parent_frames\n",
      "    def _clean_thread_parent_frames(\n",
      "\n",
      "KeyboardInterrupt: \n",
      "100%|█████████████████████████████████████████████████████████████████████████████████████████████████████████████████████████████████████████████████████████████████| 15329165/15329165 [02:09<00:00, 118562.79it/s]\n"
     ]
    },
    {
     "data": {
      "text/html": [
       "<div>\n",
       "<style scoped>\n",
       "    .dataframe tbody tr th:only-of-type {\n",
       "        vertical-align: middle;\n",
       "    }\n",
       "\n",
       "    .dataframe tbody tr th {\n",
       "        vertical-align: top;\n",
       "    }\n",
       "\n",
       "    .dataframe thead th {\n",
       "        text-align: right;\n",
       "    }\n",
       "</style>\n",
       "<table border=\"1\" class=\"dataframe\">\n",
       "  <thead>\n",
       "    <tr style=\"text-align: right;\">\n",
       "      <th></th>\n",
       "      <th>peptide</th>\n",
       "      <th>peptide_len</th>\n",
       "      <th>source_seqs</th>\n",
       "      <th>source_orfs</th>\n",
       "      <th>source_reads</th>\n",
       "    </tr>\n",
       "  </thead>\n",
       "  <tbody>\n",
       "    <tr>\n",
       "      <th>0</th>\n",
       "      <td>MCSGPGPG</td>\n",
       "      <td>8</td>\n",
       "      <td>MCSGPGPGSFATVAGDAKPRARSGLGQSFECVMASSSDSEDDSVMA...</td>\n",
       "      <td>ORF_645387_m84165_240529_114357_s1/100008387/c...</td>\n",
       "      <td>m84165_240529_114357_s1/100008387/ccs/6720_118...</td>\n",
       "    </tr>\n",
       "    <tr>\n",
       "      <th>1</th>\n",
       "      <td>CSGPGPGS</td>\n",
       "      <td>8</td>\n",
       "      <td>MCSGPGPGSFATVAGDAKPRARSGLGQSFECVMASSSDSEDDSVMA...</td>\n",
       "      <td>ORF_645387_m84165_240529_114357_s1/100008387/c...</td>\n",
       "      <td>m84165_240529_114357_s1/100008387/ccs/6720_118...</td>\n",
       "    </tr>\n",
       "    <tr>\n",
       "      <th>2</th>\n",
       "      <td>SGPGPGSF</td>\n",
       "      <td>8</td>\n",
       "      <td>MCSGPGPGSFATVAGDAKPRARSGLGQSFECVMASSSDSEDDSVMA...</td>\n",
       "      <td>ORF_645387_m84165_240529_114357_s1/100008387/c...</td>\n",
       "      <td>m84165_240529_114357_s1/100008387/ccs/6720_118...</td>\n",
       "    </tr>\n",
       "    <tr>\n",
       "      <th>3</th>\n",
       "      <td>GPGPGSFA</td>\n",
       "      <td>8</td>\n",
       "      <td>MCSGPGPGSFATVAGDAKPRARSGLGQSFECVMASSSDSEDDSVMA...</td>\n",
       "      <td>ORF_645387_m84165_240529_114357_s1/100008387/c...</td>\n",
       "      <td>m84165_240529_114357_s1/100008387/ccs/6720_118...</td>\n",
       "    </tr>\n",
       "    <tr>\n",
       "      <th>4</th>\n",
       "      <td>PGPGSFAT</td>\n",
       "      <td>8</td>\n",
       "      <td>MCSGPGPGSFATVAGDAKPRARSGLGQSFECVMASSSDSEDDSVMA...</td>\n",
       "      <td>ORF_645387_m84165_240529_114357_s1/100008387/c...</td>\n",
       "      <td>m84165_240529_114357_s1/100008387/ccs/6720_118...</td>\n",
       "    </tr>\n",
       "    <tr>\n",
       "      <th>...</th>\n",
       "      <td>...</td>\n",
       "      <td>...</td>\n",
       "      <td>...</td>\n",
       "      <td>...</td>\n",
       "      <td>...</td>\n",
       "    </tr>\n",
       "    <tr>\n",
       "      <th>15329160</th>\n",
       "      <td>DNVILLITAHC</td>\n",
       "      <td>11</td>\n",
       "      <td>MQRELSAAQGSPLLAATAAPPATLGGDGDRQRGRSDYERLESTPAA...</td>\n",
       "      <td>ORF_24_m84165_240529_114357_s1/99947067/ccs/27...</td>\n",
       "      <td>m84165_240529_114357_s1/99947067/ccs/2778_3720_1</td>\n",
       "    </tr>\n",
       "    <tr>\n",
       "      <th>15329161</th>\n",
       "      <td>NVILLITAHCT</td>\n",
       "      <td>11</td>\n",
       "      <td>MQRELSAAQGSPLLAATAAPPATLGGDGDRQRGRSDYERLESTPAA...</td>\n",
       "      <td>ORF_24_m84165_240529_114357_s1/99947067/ccs/27...</td>\n",
       "      <td>m84165_240529_114357_s1/99947067/ccs/2778_3720_1</td>\n",
       "    </tr>\n",
       "    <tr>\n",
       "      <th>15329162</th>\n",
       "      <td>VILLITAHCTS</td>\n",
       "      <td>11</td>\n",
       "      <td>MQRELSAAQGSPLLAATAAPPATLGGDGDRQRGRSDYERLESTPAA...</td>\n",
       "      <td>ORF_24_m84165_240529_114357_s1/99947067/ccs/27...</td>\n",
       "      <td>m84165_240529_114357_s1/99947067/ccs/2778_3720_1</td>\n",
       "    </tr>\n",
       "    <tr>\n",
       "      <th>15329163</th>\n",
       "      <td>ILLITAHCTSV</td>\n",
       "      <td>11</td>\n",
       "      <td>MQRELSAAQGSPLLAATAAPPATLGGDGDRQRGRSDYERLESTPAA...</td>\n",
       "      <td>ORF_24_m84165_240529_114357_s1/99947067/ccs/27...</td>\n",
       "      <td>m84165_240529_114357_s1/99947067/ccs/2778_3720_1</td>\n",
       "    </tr>\n",
       "    <tr>\n",
       "      <th>15329164</th>\n",
       "      <td>LLITAHCTSVQ</td>\n",
       "      <td>11</td>\n",
       "      <td>MQRELSAAQGSPLLAATAAPPATLGGDGDRQRGRSDYERLESTPAA...</td>\n",
       "      <td>ORF_24_m84165_240529_114357_s1/99947067/ccs/27...</td>\n",
       "      <td>m84165_240529_114357_s1/99947067/ccs/2778_3720_1</td>\n",
       "    </tr>\n",
       "  </tbody>\n",
       "</table>\n",
       "<p>15329165 rows × 5 columns</p>\n",
       "</div>"
      ],
      "text/plain": [
       "              peptide  peptide_len  \\\n",
       "0            MCSGPGPG            8   \n",
       "1            CSGPGPGS            8   \n",
       "2            SGPGPGSF            8   \n",
       "3            GPGPGSFA            8   \n",
       "4            PGPGSFAT            8   \n",
       "...               ...          ...   \n",
       "15329160  DNVILLITAHC           11   \n",
       "15329161  NVILLITAHCT           11   \n",
       "15329162  VILLITAHCTS           11   \n",
       "15329163  ILLITAHCTSV           11   \n",
       "15329164  LLITAHCTSVQ           11   \n",
       "\n",
       "                                                source_seqs  \\\n",
       "0         MCSGPGPGSFATVAGDAKPRARSGLGQSFECVMASSSDSEDDSVMA...   \n",
       "1         MCSGPGPGSFATVAGDAKPRARSGLGQSFECVMASSSDSEDDSVMA...   \n",
       "2         MCSGPGPGSFATVAGDAKPRARSGLGQSFECVMASSSDSEDDSVMA...   \n",
       "3         MCSGPGPGSFATVAGDAKPRARSGLGQSFECVMASSSDSEDDSVMA...   \n",
       "4         MCSGPGPGSFATVAGDAKPRARSGLGQSFECVMASSSDSEDDSVMA...   \n",
       "...                                                     ...   \n",
       "15329160  MQRELSAAQGSPLLAATAAPPATLGGDGDRQRGRSDYERLESTPAA...   \n",
       "15329161  MQRELSAAQGSPLLAATAAPPATLGGDGDRQRGRSDYERLESTPAA...   \n",
       "15329162  MQRELSAAQGSPLLAATAAPPATLGGDGDRQRGRSDYERLESTPAA...   \n",
       "15329163  MQRELSAAQGSPLLAATAAPPATLGGDGDRQRGRSDYERLESTPAA...   \n",
       "15329164  MQRELSAAQGSPLLAATAAPPATLGGDGDRQRGRSDYERLESTPAA...   \n",
       "\n",
       "                                                source_orfs  \\\n",
       "0         ORF_645387_m84165_240529_114357_s1/100008387/c...   \n",
       "1         ORF_645387_m84165_240529_114357_s1/100008387/c...   \n",
       "2         ORF_645387_m84165_240529_114357_s1/100008387/c...   \n",
       "3         ORF_645387_m84165_240529_114357_s1/100008387/c...   \n",
       "4         ORF_645387_m84165_240529_114357_s1/100008387/c...   \n",
       "...                                                     ...   \n",
       "15329160  ORF_24_m84165_240529_114357_s1/99947067/ccs/27...   \n",
       "15329161  ORF_24_m84165_240529_114357_s1/99947067/ccs/27...   \n",
       "15329162  ORF_24_m84165_240529_114357_s1/99947067/ccs/27...   \n",
       "15329163  ORF_24_m84165_240529_114357_s1/99947067/ccs/27...   \n",
       "15329164  ORF_24_m84165_240529_114357_s1/99947067/ccs/27...   \n",
       "\n",
       "                                               source_reads  \n",
       "0         m84165_240529_114357_s1/100008387/ccs/6720_118...  \n",
       "1         m84165_240529_114357_s1/100008387/ccs/6720_118...  \n",
       "2         m84165_240529_114357_s1/100008387/ccs/6720_118...  \n",
       "3         m84165_240529_114357_s1/100008387/ccs/6720_118...  \n",
       "4         m84165_240529_114357_s1/100008387/ccs/6720_118...  \n",
       "...                                                     ...  \n",
       "15329160   m84165_240529_114357_s1/99947067/ccs/2778_3720_1  \n",
       "15329161   m84165_240529_114357_s1/99947067/ccs/2778_3720_1  \n",
       "15329162   m84165_240529_114357_s1/99947067/ccs/2778_3720_1  \n",
       "15329163   m84165_240529_114357_s1/99947067/ccs/2778_3720_1  \n",
       "15329164   m84165_240529_114357_s1/99947067/ccs/2778_3720_1  \n",
       "\n",
       "[15329165 rows x 5 columns]"
      ]
     },
     "execution_count": 27,
     "metadata": {},
     "output_type": "execute_result"
    }
   ],
   "source": [
    "peptide_rows = []\n",
    "for p, source_seqs in tqdm(list(peptide_to_source_seqs.items())):\n",
    "    peptide_rows.append({\n",
    "        \"peptide\": p, \n",
    "        \"peptide_len\": len(p), \n",
    "        \"num_source_seqs\": \";\".join(sorted(source_seqs)), \n",
    "        \"num_source_orfs\": \";\".join(sorted(peptide_to_source_orf_ids[p])),\n",
    "        \"num_source_reads\": \";\".join(sorted(peptide_to_source_read_ids[p])),\n",
    "    })\n",
    "df_peptides = pd.DataFrame(peptide_rows)\n",
    "df_peptides"
   ]
  },
  {
   "cell_type": "code",
   "execution_count": 31,
   "id": "0cf39254-b9b8-4586-b235-5e09f7d08598",
   "metadata": {},
   "outputs": [
    {
     "data": {
      "text/html": [
       "<div>\n",
       "<style scoped>\n",
       "    .dataframe tbody tr th:only-of-type {\n",
       "        vertical-align: middle;\n",
       "    }\n",
       "\n",
       "    .dataframe tbody tr th {\n",
       "        vertical-align: top;\n",
       "    }\n",
       "\n",
       "    .dataframe thead th {\n",
       "        text-align: right;\n",
       "    }\n",
       "</style>\n",
       "<table border=\"1\" class=\"dataframe\">\n",
       "  <thead>\n",
       "    <tr style=\"text-align: right;\">\n",
       "      <th></th>\n",
       "      <th>peptide</th>\n",
       "      <th>peptide_len</th>\n",
       "      <th>source_seqs</th>\n",
       "      <th>source_orfs</th>\n",
       "      <th>source_reads</th>\n",
       "      <th>num_source_seqs</th>\n",
       "      <th>num_source_orfs</th>\n",
       "      <th>num_source_reads</th>\n",
       "    </tr>\n",
       "  </thead>\n",
       "  <tbody>\n",
       "    <tr>\n",
       "      <th>0</th>\n",
       "      <td>MCSGPGPG</td>\n",
       "      <td>8</td>\n",
       "      <td>MCSGPGPGSFATVAGDAKPRARSGLGQSFECVMASSSDSEDDSVMA...</td>\n",
       "      <td>ORF_645387_m84165_240529_114357_s1/100008387/c...</td>\n",
       "      <td>m84165_240529_114357_s1/100008387/ccs/6720_118...</td>\n",
       "      <td>1</td>\n",
       "      <td>1</td>\n",
       "      <td>1</td>\n",
       "    </tr>\n",
       "    <tr>\n",
       "      <th>1</th>\n",
       "      <td>CSGPGPGS</td>\n",
       "      <td>8</td>\n",
       "      <td>MCSGPGPGSFATVAGDAKPRARSGLGQSFECVMASSSDSEDDSVMA...</td>\n",
       "      <td>ORF_645387_m84165_240529_114357_s1/100008387/c...</td>\n",
       "      <td>m84165_240529_114357_s1/100008387/ccs/6720_118...</td>\n",
       "      <td>1</td>\n",
       "      <td>1</td>\n",
       "      <td>1</td>\n",
       "    </tr>\n",
       "    <tr>\n",
       "      <th>2</th>\n",
       "      <td>SGPGPGSF</td>\n",
       "      <td>8</td>\n",
       "      <td>MCSGPGPGSFATVAGDAKPRARSGLGQSFECVMASSSDSEDDSVMA...</td>\n",
       "      <td>ORF_645387_m84165_240529_114357_s1/100008387/c...</td>\n",
       "      <td>m84165_240529_114357_s1/100008387/ccs/6720_118...</td>\n",
       "      <td>1</td>\n",
       "      <td>1</td>\n",
       "      <td>1</td>\n",
       "    </tr>\n",
       "    <tr>\n",
       "      <th>3</th>\n",
       "      <td>GPGPGSFA</td>\n",
       "      <td>8</td>\n",
       "      <td>MCSGPGPGSFATVAGDAKPRARSGLGQSFECVMASSSDSEDDSVMA...</td>\n",
       "      <td>ORF_645387_m84165_240529_114357_s1/100008387/c...</td>\n",
       "      <td>m84165_240529_114357_s1/100008387/ccs/6720_118...</td>\n",
       "      <td>1</td>\n",
       "      <td>1</td>\n",
       "      <td>1</td>\n",
       "    </tr>\n",
       "    <tr>\n",
       "      <th>4</th>\n",
       "      <td>PGPGSFAT</td>\n",
       "      <td>8</td>\n",
       "      <td>MCSGPGPGSFATVAGDAKPRARSGLGQSFECVMASSSDSEDDSVMA...</td>\n",
       "      <td>ORF_645387_m84165_240529_114357_s1/100008387/c...</td>\n",
       "      <td>m84165_240529_114357_s1/100008387/ccs/6720_118...</td>\n",
       "      <td>1</td>\n",
       "      <td>1</td>\n",
       "      <td>1</td>\n",
       "    </tr>\n",
       "    <tr>\n",
       "      <th>...</th>\n",
       "      <td>...</td>\n",
       "      <td>...</td>\n",
       "      <td>...</td>\n",
       "      <td>...</td>\n",
       "      <td>...</td>\n",
       "      <td>...</td>\n",
       "      <td>...</td>\n",
       "      <td>...</td>\n",
       "    </tr>\n",
       "    <tr>\n",
       "      <th>15329160</th>\n",
       "      <td>DNVILLITAHC</td>\n",
       "      <td>11</td>\n",
       "      <td>MQRELSAAQGSPLLAATAAPPATLGGDGDRQRGRSDYERLESTPAA...</td>\n",
       "      <td>ORF_24_m84165_240529_114357_s1/99947067/ccs/27...</td>\n",
       "      <td>m84165_240529_114357_s1/99947067/ccs/2778_3720_1</td>\n",
       "      <td>1</td>\n",
       "      <td>1</td>\n",
       "      <td>1</td>\n",
       "    </tr>\n",
       "    <tr>\n",
       "      <th>15329161</th>\n",
       "      <td>NVILLITAHCT</td>\n",
       "      <td>11</td>\n",
       "      <td>MQRELSAAQGSPLLAATAAPPATLGGDGDRQRGRSDYERLESTPAA...</td>\n",
       "      <td>ORF_24_m84165_240529_114357_s1/99947067/ccs/27...</td>\n",
       "      <td>m84165_240529_114357_s1/99947067/ccs/2778_3720_1</td>\n",
       "      <td>1</td>\n",
       "      <td>1</td>\n",
       "      <td>1</td>\n",
       "    </tr>\n",
       "    <tr>\n",
       "      <th>15329162</th>\n",
       "      <td>VILLITAHCTS</td>\n",
       "      <td>11</td>\n",
       "      <td>MQRELSAAQGSPLLAATAAPPATLGGDGDRQRGRSDYERLESTPAA...</td>\n",
       "      <td>ORF_24_m84165_240529_114357_s1/99947067/ccs/27...</td>\n",
       "      <td>m84165_240529_114357_s1/99947067/ccs/2778_3720_1</td>\n",
       "      <td>1</td>\n",
       "      <td>1</td>\n",
       "      <td>1</td>\n",
       "    </tr>\n",
       "    <tr>\n",
       "      <th>15329163</th>\n",
       "      <td>ILLITAHCTSV</td>\n",
       "      <td>11</td>\n",
       "      <td>MQRELSAAQGSPLLAATAAPPATLGGDGDRQRGRSDYERLESTPAA...</td>\n",
       "      <td>ORF_24_m84165_240529_114357_s1/99947067/ccs/27...</td>\n",
       "      <td>m84165_240529_114357_s1/99947067/ccs/2778_3720_1</td>\n",
       "      <td>1</td>\n",
       "      <td>1</td>\n",
       "      <td>1</td>\n",
       "    </tr>\n",
       "    <tr>\n",
       "      <th>15329164</th>\n",
       "      <td>LLITAHCTSVQ</td>\n",
       "      <td>11</td>\n",
       "      <td>MQRELSAAQGSPLLAATAAPPATLGGDGDRQRGRSDYERLESTPAA...</td>\n",
       "      <td>ORF_24_m84165_240529_114357_s1/99947067/ccs/27...</td>\n",
       "      <td>m84165_240529_114357_s1/99947067/ccs/2778_3720_1</td>\n",
       "      <td>1</td>\n",
       "      <td>1</td>\n",
       "      <td>1</td>\n",
       "    </tr>\n",
       "  </tbody>\n",
       "</table>\n",
       "<p>15329165 rows × 8 columns</p>\n",
       "</div>"
      ],
      "text/plain": [
       "              peptide  peptide_len  \\\n",
       "0            MCSGPGPG            8   \n",
       "1            CSGPGPGS            8   \n",
       "2            SGPGPGSF            8   \n",
       "3            GPGPGSFA            8   \n",
       "4            PGPGSFAT            8   \n",
       "...               ...          ...   \n",
       "15329160  DNVILLITAHC           11   \n",
       "15329161  NVILLITAHCT           11   \n",
       "15329162  VILLITAHCTS           11   \n",
       "15329163  ILLITAHCTSV           11   \n",
       "15329164  LLITAHCTSVQ           11   \n",
       "\n",
       "                                                source_seqs  \\\n",
       "0         MCSGPGPGSFATVAGDAKPRARSGLGQSFECVMASSSDSEDDSVMA...   \n",
       "1         MCSGPGPGSFATVAGDAKPRARSGLGQSFECVMASSSDSEDDSVMA...   \n",
       "2         MCSGPGPGSFATVAGDAKPRARSGLGQSFECVMASSSDSEDDSVMA...   \n",
       "3         MCSGPGPGSFATVAGDAKPRARSGLGQSFECVMASSSDSEDDSVMA...   \n",
       "4         MCSGPGPGSFATVAGDAKPRARSGLGQSFECVMASSSDSEDDSVMA...   \n",
       "...                                                     ...   \n",
       "15329160  MQRELSAAQGSPLLAATAAPPATLGGDGDRQRGRSDYERLESTPAA...   \n",
       "15329161  MQRELSAAQGSPLLAATAAPPATLGGDGDRQRGRSDYERLESTPAA...   \n",
       "15329162  MQRELSAAQGSPLLAATAAPPATLGGDGDRQRGRSDYERLESTPAA...   \n",
       "15329163  MQRELSAAQGSPLLAATAAPPATLGGDGDRQRGRSDYERLESTPAA...   \n",
       "15329164  MQRELSAAQGSPLLAATAAPPATLGGDGDRQRGRSDYERLESTPAA...   \n",
       "\n",
       "                                                source_orfs  \\\n",
       "0         ORF_645387_m84165_240529_114357_s1/100008387/c...   \n",
       "1         ORF_645387_m84165_240529_114357_s1/100008387/c...   \n",
       "2         ORF_645387_m84165_240529_114357_s1/100008387/c...   \n",
       "3         ORF_645387_m84165_240529_114357_s1/100008387/c...   \n",
       "4         ORF_645387_m84165_240529_114357_s1/100008387/c...   \n",
       "...                                                     ...   \n",
       "15329160  ORF_24_m84165_240529_114357_s1/99947067/ccs/27...   \n",
       "15329161  ORF_24_m84165_240529_114357_s1/99947067/ccs/27...   \n",
       "15329162  ORF_24_m84165_240529_114357_s1/99947067/ccs/27...   \n",
       "15329163  ORF_24_m84165_240529_114357_s1/99947067/ccs/27...   \n",
       "15329164  ORF_24_m84165_240529_114357_s1/99947067/ccs/27...   \n",
       "\n",
       "                                               source_reads  num_source_seqs  \\\n",
       "0         m84165_240529_114357_s1/100008387/ccs/6720_118...                1   \n",
       "1         m84165_240529_114357_s1/100008387/ccs/6720_118...                1   \n",
       "2         m84165_240529_114357_s1/100008387/ccs/6720_118...                1   \n",
       "3         m84165_240529_114357_s1/100008387/ccs/6720_118...                1   \n",
       "4         m84165_240529_114357_s1/100008387/ccs/6720_118...                1   \n",
       "...                                                     ...              ...   \n",
       "15329160   m84165_240529_114357_s1/99947067/ccs/2778_3720_1                1   \n",
       "15329161   m84165_240529_114357_s1/99947067/ccs/2778_3720_1                1   \n",
       "15329162   m84165_240529_114357_s1/99947067/ccs/2778_3720_1                1   \n",
       "15329163   m84165_240529_114357_s1/99947067/ccs/2778_3720_1                1   \n",
       "15329164   m84165_240529_114357_s1/99947067/ccs/2778_3720_1                1   \n",
       "\n",
       "          num_source_orfs  num_source_reads  \n",
       "0                       1                 1  \n",
       "1                       1                 1  \n",
       "2                       1                 1  \n",
       "3                       1                 1  \n",
       "4                       1                 1  \n",
       "...                   ...               ...  \n",
       "15329160                1                 1  \n",
       "15329161                1                 1  \n",
       "15329162                1                 1  \n",
       "15329163                1                 1  \n",
       "15329164                1                 1  \n",
       "\n",
       "[15329165 rows x 8 columns]"
      ]
     },
     "execution_count": 31,
     "metadata": {},
     "output_type": "execute_result"
    }
   ],
   "source": [
    "df_peptides[\"num_source_seqs\"] = df_peptides[\"source_seqs\"].str.count(';') + 1\n",
    "df_peptides[\"num_source_orfs\"] = df_peptides[\"source_orfs\"].str.count(';') + 1\n",
    "df_peptides[\"num_source_reads\"] = df_peptides[\"source_reads\"].str.count(';') + 1\n",
    "df_peptides.to_csv(\"peptides-8mer-to-11mer-with-source.csv\")\n",
    "df_peptides"
   ]
  },
  {
   "cell_type": "code",
   "execution_count": 33,
   "id": "74e6639a-aaba-4c45-ab86-9c3ff7d9a1a4",
   "metadata": {},
   "outputs": [
    {
     "name": "stdout",
     "output_type": "stream",
     "text": [
      "Predicting processing.\n"
     ]
    },
    {
     "name": "stderr",
     "output_type": "stream",
     "text": [
      "  0%|                                                                                                                                                                                         | 0/154 [00:00<?, ?it/s]"
     ]
    },
    {
     "name": "stdout",
     "output_type": "stream",
     "text": [
      "25/25 [==============================] - 1s 46ms/step\n",
      "25/25 [==============================] - 1s 50ms/step\n",
      "25/25 [==============================] - 1s 54ms/step\n",
      "25/25 [==============================] - 1s 22ms/step\n",
      "25/25 [==============================] - 2s 61ms/step\n",
      "25/25 [==============================] - 2s 60ms/step\n",
      "25/25 [==============================] - 1s 57ms/step\n",
      "25/25 [==============================] - 1s 47ms/step\n"
     ]
    },
    {
     "name": "stderr",
     "output_type": "stream",
     "text": [
      "  1%|█▏                                                                                                                                                                               | 1/154 [00:11<29:58, 11.75s/it]"
     ]
    },
    {
     "name": "stdout",
     "output_type": "stream",
     "text": [
      "25/25 [==============================] - 1s 46ms/step\n",
      "25/25 [==============================] - 1s 50ms/step\n",
      "25/25 [==============================] - 1s 55ms/step\n",
      "25/25 [==============================] - 1s 22ms/step\n",
      "25/25 [==============================] - 1s 57ms/step\n",
      "25/25 [==============================] - 2s 71ms/step\n",
      "25/25 [==============================] - 2s 62ms/step\n",
      "25/25 [==============================] - 1s 48ms/step\n"
     ]
    },
    {
     "name": "stderr",
     "output_type": "stream",
     "text": [
      "  1%|██▎                                                                                                                                                                              | 2/154 [00:22<28:45, 11.35s/it]"
     ]
    },
    {
     "name": "stdout",
     "output_type": "stream",
     "text": [
      "25/25 [==============================] - 1s 46ms/step\n",
      "25/25 [==============================] - 1s 55ms/step\n",
      "25/25 [==============================] - 1s 58ms/step\n",
      "25/25 [==============================] - 1s 24ms/step\n",
      "25/25 [==============================] - 1s 56ms/step\n",
      "25/25 [==============================] - 1s 57ms/step\n",
      "25/25 [==============================] - 1s 55ms/step\n",
      "25/25 [==============================] - 1s 48ms/step\n"
     ]
    },
    {
     "name": "stderr",
     "output_type": "stream",
     "text": [
      "  2%|███▍                                                                                                                                                                             | 3/154 [00:33<27:52, 11.08s/it]"
     ]
    },
    {
     "name": "stdout",
     "output_type": "stream",
     "text": [
      "25/25 [==============================] - 1s 48ms/step\n",
      "25/25 [==============================] - 1s 51ms/step\n",
      "25/25 [==============================] - 1s 60ms/step\n",
      "25/25 [==============================] - 1s 22ms/step\n",
      "25/25 [==============================] - 2s 63ms/step\n",
      "25/25 [==============================] - 1s 59ms/step\n",
      "25/25 [==============================] - 1s 54ms/step\n",
      "25/25 [==============================] - 1s 46ms/step\n"
     ]
    },
    {
     "name": "stderr",
     "output_type": "stream",
     "text": [
      "  3%|████▌                                                                                                                                                                            | 4/154 [00:44<27:25, 10.97s/it]"
     ]
    },
    {
     "name": "stdout",
     "output_type": "stream",
     "text": [
      "25/25 [==============================] - 1s 45ms/step\n",
      "25/25 [==============================] - 1s 52ms/step\n",
      "25/25 [==============================] - 1s 58ms/step\n",
      "25/25 [==============================] - 1s 22ms/step\n",
      "25/25 [==============================] - 2s 65ms/step\n",
      "25/25 [==============================] - 2s 63ms/step\n",
      "25/25 [==============================] - 1s 57ms/step\n",
      "25/25 [==============================] - 2s 61ms/step\n"
     ]
    },
    {
     "name": "stderr",
     "output_type": "stream",
     "text": [
      "  3%|█████▋                                                                                                                                                                           | 5/154 [00:55<27:37, 11.13s/it]"
     ]
    },
    {
     "name": "stdout",
     "output_type": "stream",
     "text": [
      "25/25 [==============================] - 1s 59ms/step\n",
      "25/25 [==============================] - 2s 61ms/step\n",
      "25/25 [==============================] - 2s 65ms/step\n",
      "25/25 [==============================] - 1s 26ms/step\n",
      "25/25 [==============================] - 2s 59ms/step\n",
      "25/25 [==============================] - 2s 61ms/step\n",
      "25/25 [==============================] - 1s 59ms/step\n",
      "25/25 [==============================] - 1s 47ms/step\n"
     ]
    },
    {
     "name": "stderr",
     "output_type": "stream",
     "text": [
      "  4%|██████▉                                                                                                                                                                          | 6/154 [01:07<28:05, 11.39s/it]"
     ]
    },
    {
     "name": "stdout",
     "output_type": "stream",
     "text": [
      "25/25 [==============================] - 1s 46ms/step\n",
      "25/25 [==============================] - 1s 52ms/step\n",
      "25/25 [==============================] - 1s 56ms/step\n",
      "25/25 [==============================] - 1s 22ms/step\n",
      "25/25 [==============================] - 1s 57ms/step\n",
      "25/25 [==============================] - 1s 57ms/step\n",
      "25/25 [==============================] - 1s 55ms/step\n",
      "25/25 [==============================] - 1s 50ms/step\n"
     ]
    },
    {
     "name": "stderr",
     "output_type": "stream",
     "text": [
      "  5%|████████                                                                                                                                                                         | 7/154 [01:18<27:21, 11.16s/it]"
     ]
    },
    {
     "name": "stdout",
     "output_type": "stream",
     "text": [
      "25/25 [==============================] - 1s 48ms/step\n",
      "25/25 [==============================] - 1s 51ms/step\n",
      "25/25 [==============================] - 1s 57ms/step\n",
      "25/25 [==============================] - 1s 22ms/step\n",
      "25/25 [==============================] - 1s 57ms/step\n",
      "25/25 [==============================] - 1s 55ms/step\n",
      "25/25 [==============================] - 1s 56ms/step\n",
      "25/25 [==============================] - 1s 48ms/step\n"
     ]
    },
    {
     "name": "stderr",
     "output_type": "stream",
     "text": [
      "  5%|█████████▏                                                                                                                                                                       | 8/154 [01:28<26:43, 10.99s/it]"
     ]
    },
    {
     "name": "stdout",
     "output_type": "stream",
     "text": [
      "25/25 [==============================] - 1s 47ms/step\n",
      "25/25 [==============================] - 1s 53ms/step\n",
      "25/25 [==============================] - 1s 56ms/step\n",
      "25/25 [==============================] - 1s 22ms/step\n",
      "25/25 [==============================] - 1s 57ms/step\n",
      "25/25 [==============================] - 1s 55ms/step\n",
      "25/25 [==============================] - 1s 54ms/step\n",
      "25/25 [==============================] - 1s 48ms/step\n"
     ]
    },
    {
     "name": "stderr",
     "output_type": "stream",
     "text": [
      "  6%|██████████▎                                                                                                                                                                      | 9/154 [01:39<26:11, 10.84s/it]"
     ]
    },
    {
     "name": "stdout",
     "output_type": "stream",
     "text": [
      "25/25 [==============================] - 1s 48ms/step\n",
      "25/25 [==============================] - 1s 53ms/step\n",
      "25/25 [==============================] - 1s 58ms/step\n",
      "25/25 [==============================] - 1s 22ms/step\n",
      "25/25 [==============================] - 1s 56ms/step\n",
      "25/25 [==============================] - 1s 56ms/step\n",
      "25/25 [==============================] - 1s 56ms/step\n",
      "25/25 [==============================] - 1s 49ms/step\n"
     ]
    },
    {
     "name": "stderr",
     "output_type": "stream",
     "text": [
      "  6%|███████████▍                                                                                                                                                                    | 10/154 [01:50<25:53, 10.79s/it]"
     ]
    },
    {
     "name": "stdout",
     "output_type": "stream",
     "text": [
      "25/25 [==============================] - 1s 52ms/step\n",
      "25/25 [==============================] - 1s 52ms/step\n",
      "25/25 [==============================] - 1s 55ms/step\n",
      "25/25 [==============================] - 1s 22ms/step\n",
      "25/25 [==============================] - 1s 58ms/step\n",
      "25/25 [==============================] - 2s 59ms/step\n",
      "25/25 [==============================] - 2s 61ms/step\n",
      "25/25 [==============================] - 1s 50ms/step\n"
     ]
    },
    {
     "name": "stderr",
     "output_type": "stream",
     "text": [
      "  7%|████████████▌                                                                                                                                                                   | 11/154 [02:01<25:53, 10.86s/it]"
     ]
    },
    {
     "name": "stdout",
     "output_type": "stream",
     "text": [
      "25/25 [==============================] - 1s 53ms/step\n",
      "25/25 [==============================] - 1s 51ms/step\n",
      "25/25 [==============================] - 2s 60ms/step\n",
      "25/25 [==============================] - 1s 23ms/step\n",
      "25/25 [==============================] - 2s 62ms/step\n",
      "25/25 [==============================] - 1s 55ms/step\n",
      "25/25 [==============================] - 1s 55ms/step\n",
      "25/25 [==============================] - 1s 48ms/step\n"
     ]
    },
    {
     "name": "stderr",
     "output_type": "stream",
     "text": [
      "  8%|█████████████▋                                                                                                                                                                  | 12/154 [02:12<25:49, 10.91s/it]"
     ]
    },
    {
     "name": "stdout",
     "output_type": "stream",
     "text": [
      "25/25 [==============================] - 1s 56ms/step\n",
      "25/25 [==============================] - 1s 52ms/step\n",
      "25/25 [==============================] - 1s 57ms/step\n",
      "25/25 [==============================] - 1s 21ms/step\n",
      "25/25 [==============================] - 1s 58ms/step\n",
      "25/25 [==============================] - 1s 57ms/step\n",
      "25/25 [==============================] - 2s 65ms/step\n",
      "25/25 [==============================] - 1s 47ms/step\n"
     ]
    },
    {
     "name": "stderr",
     "output_type": "stream",
     "text": [
      "  8%|██████████████▊                                                                                                                                                                 | 13/154 [02:23<25:47, 10.97s/it]"
     ]
    },
    {
     "name": "stdout",
     "output_type": "stream",
     "text": [
      "25/25 [==============================] - 1s 46ms/step\n",
      "25/25 [==============================] - 1s 48ms/step\n",
      "25/25 [==============================] - 1s 56ms/step\n",
      "25/25 [==============================] - 1s 26ms/step\n",
      "25/25 [==============================] - 3s 107ms/step\n",
      "25/25 [==============================] - 2s 68ms/step\n",
      "25/25 [==============================] - 2s 70ms/step\n",
      "25/25 [==============================] - 2s 63ms/step\n"
     ]
    },
    {
     "name": "stderr",
     "output_type": "stream",
     "text": [
      "  9%|████████████████                                                                                                                                                                | 14/154 [02:36<26:57, 11.55s/it]"
     ]
    },
    {
     "name": "stdout",
     "output_type": "stream",
     "text": [
      "25/25 [==============================] - 1s 54ms/step\n",
      "25/25 [==============================] - 1s 57ms/step\n",
      "25/25 [==============================] - 2s 60ms/step\n",
      "25/25 [==============================] - 1s 25ms/step\n",
      "25/25 [==============================] - 2s 64ms/step\n",
      "25/25 [==============================] - 2s 65ms/step\n",
      "25/25 [==============================] - 1s 55ms/step\n",
      "25/25 [==============================] - 1s 54ms/step\n"
     ]
    },
    {
     "name": "stderr",
     "output_type": "stream",
     "text": [
      " 10%|█████████████████▏                                                                                                                                                              | 15/154 [02:47<26:50, 11.58s/it]"
     ]
    },
    {
     "name": "stdout",
     "output_type": "stream",
     "text": [
      "25/25 [==============================] - 1s 57ms/step\n",
      "25/25 [==============================] - 2s 61ms/step\n",
      "25/25 [==============================] - 2s 63ms/step\n",
      "25/25 [==============================] - 1s 24ms/step\n",
      "25/25 [==============================] - 1s 59ms/step\n",
      "25/25 [==============================] - 1s 59ms/step\n",
      "25/25 [==============================] - 2s 59ms/step\n",
      "25/25 [==============================] - 1s 49ms/step\n"
     ]
    },
    {
     "name": "stderr",
     "output_type": "stream",
     "text": [
      " 10%|██████████████████▎                                                                                                                                                             | 16/154 [02:59<26:41, 11.61s/it]"
     ]
    },
    {
     "name": "stdout",
     "output_type": "stream",
     "text": [
      "25/25 [==============================] - 1s 49ms/step\n",
      "25/25 [==============================] - 1s 54ms/step\n",
      "25/25 [==============================] - 2s 68ms/step\n",
      "25/25 [==============================] - 1s 21ms/step\n",
      "25/25 [==============================] - 1s 57ms/step\n",
      "25/25 [==============================] - 1s 59ms/step\n",
      "25/25 [==============================] - 2s 62ms/step\n",
      "25/25 [==============================] - 1s 58ms/step\n"
     ]
    },
    {
     "name": "stderr",
     "output_type": "stream",
     "text": [
      " 11%|███████████████████▍                                                                                                                                                            | 17/154 [03:11<26:28, 11.59s/it]"
     ]
    },
    {
     "name": "stdout",
     "output_type": "stream",
     "text": [
      "25/25 [==============================] - 1s 48ms/step\n",
      "25/25 [==============================] - 1s 50ms/step\n",
      "25/25 [==============================] - 1s 58ms/step\n",
      "25/25 [==============================] - 1s 21ms/step\n",
      "25/25 [==============================] - 1s 58ms/step\n",
      "25/25 [==============================] - 1s 57ms/step\n",
      "25/25 [==============================] - 1s 56ms/step\n",
      "25/25 [==============================] - 1s 49ms/step\n"
     ]
    },
    {
     "name": "stderr",
     "output_type": "stream",
     "text": [
      " 12%|████████████████████▌                                                                                                                                                           | 18/154 [03:21<25:43, 11.35s/it]"
     ]
    },
    {
     "name": "stdout",
     "output_type": "stream",
     "text": [
      "25/25 [==============================] - 2s 61ms/step\n",
      "25/25 [==============================] - 2s 62ms/step\n",
      "25/25 [==============================] - 2s 62ms/step\n",
      "25/25 [==============================] - 1s 24ms/step\n",
      "25/25 [==============================] - 2s 65ms/step\n",
      "25/25 [==============================] - 1s 56ms/step\n",
      "25/25 [==============================] - 1s 56ms/step\n",
      "25/25 [==============================] - 1s 52ms/step\n"
     ]
    },
    {
     "name": "stderr",
     "output_type": "stream",
     "text": [
      " 12%|█████████████████████▋                                                                                                                                                          | 19/154 [03:33<25:49, 11.48s/it]"
     ]
    },
    {
     "name": "stdout",
     "output_type": "stream",
     "text": [
      "25/25 [==============================] - 1s 48ms/step\n",
      "25/25 [==============================] - 1s 50ms/step\n",
      "25/25 [==============================] - 2s 61ms/step\n",
      "25/25 [==============================] - 1s 23ms/step\n",
      "25/25 [==============================] - 2s 63ms/step\n",
      "25/25 [==============================] - 2s 67ms/step\n",
      "25/25 [==============================] - 2s 60ms/step\n",
      "25/25 [==============================] - 1s 49ms/step\n"
     ]
    },
    {
     "name": "stderr",
     "output_type": "stream",
     "text": [
      " 13%|██████████████████████▊                                                                                                                                                         | 20/154 [03:44<25:29, 11.42s/it]"
     ]
    },
    {
     "name": "stdout",
     "output_type": "stream",
     "text": [
      "25/25 [==============================] - 1s 47ms/step\n",
      "25/25 [==============================] - 1s 52ms/step\n",
      "25/25 [==============================] - 2s 61ms/step\n",
      "25/25 [==============================] - 1s 24ms/step\n",
      "25/25 [==============================] - 2s 66ms/step\n",
      "25/25 [==============================] - 2s 64ms/step\n",
      "25/25 [==============================] - 2s 63ms/step\n",
      "25/25 [==============================] - 1s 57ms/step\n"
     ]
    },
    {
     "name": "stderr",
     "output_type": "stream",
     "text": [
      " 14%|████████████████████████                                                                                                                                                        | 21/154 [03:56<25:28, 11.49s/it]"
     ]
    },
    {
     "name": "stdout",
     "output_type": "stream",
     "text": [
      "25/25 [==============================] - 1s 50ms/step\n",
      "25/25 [==============================] - 1s 49ms/step\n",
      "25/25 [==============================] - 1s 58ms/step\n",
      "25/25 [==============================] - 1s 21ms/step\n",
      "25/25 [==============================] - 1s 56ms/step\n",
      "25/25 [==============================] - 1s 55ms/step\n",
      "25/25 [==============================] - 2s 63ms/step\n",
      "25/25 [==============================] - 1s 51ms/step\n"
     ]
    },
    {
     "name": "stderr",
     "output_type": "stream",
     "text": [
      " 14%|█████████████████████████▏                                                                                                                                                      | 22/154 [04:07<24:53, 11.32s/it]"
     ]
    },
    {
     "name": "stdout",
     "output_type": "stream",
     "text": [
      "25/25 [==============================] - 1s 50ms/step\n",
      "25/25 [==============================] - 1s 54ms/step\n",
      "25/25 [==============================] - 2s 61ms/step\n",
      "25/25 [==============================] - 1s 23ms/step\n",
      "25/25 [==============================] - 1s 59ms/step\n",
      "25/25 [==============================] - 2s 61ms/step\n",
      "25/25 [==============================] - 1s 55ms/step\n",
      "25/25 [==============================] - 1s 47ms/step\n"
     ]
    },
    {
     "name": "stderr",
     "output_type": "stream",
     "text": [
      " 15%|██████████████████████████▎                                                                                                                                                     | 23/154 [04:18<24:31, 11.24s/it]"
     ]
    },
    {
     "name": "stdout",
     "output_type": "stream",
     "text": [
      "25/25 [==============================] - 1s 47ms/step\n",
      "25/25 [==============================] - 1s 53ms/step\n",
      "25/25 [==============================] - 1s 57ms/step\n",
      "25/25 [==============================] - 1s 24ms/step\n",
      "25/25 [==============================] - 2s 60ms/step\n",
      "25/25 [==============================] - 2s 60ms/step\n",
      "25/25 [==============================] - 1s 59ms/step\n",
      "25/25 [==============================] - 1s 48ms/step\n"
     ]
    },
    {
     "name": "stderr",
     "output_type": "stream",
     "text": [
      " 16%|███████████████████████████▍                                                                                                                                                    | 24/154 [04:29<24:12, 11.17s/it]"
     ]
    },
    {
     "name": "stdout",
     "output_type": "stream",
     "text": [
      "25/25 [==============================] - 2s 61ms/step\n",
      "25/25 [==============================] - 2s 61ms/step\n",
      "25/25 [==============================] - 2s 60ms/step\n",
      "25/25 [==============================] - 1s 25ms/step\n",
      "25/25 [==============================] - 1s 55ms/step\n",
      "25/25 [==============================] - 1s 55ms/step\n",
      "25/25 [==============================] - 1s 54ms/step\n",
      "25/25 [==============================] - 1s 46ms/step\n"
     ]
    },
    {
     "name": "stderr",
     "output_type": "stream",
     "text": [
      " 16%|████████████████████████████▌                                                                                                                                                   | 25/154 [04:40<24:04, 11.20s/it]"
     ]
    },
    {
     "name": "stdout",
     "output_type": "stream",
     "text": [
      "25/25 [==============================] - 1s 45ms/step\n",
      "25/25 [==============================] - 1s 52ms/step\n",
      "25/25 [==============================] - 1s 55ms/step\n",
      "25/25 [==============================] - 1s 21ms/step\n",
      "25/25 [==============================] - 1s 54ms/step\n",
      "25/25 [==============================] - 1s 60ms/step\n",
      "25/25 [==============================] - 1s 56ms/step\n",
      "25/25 [==============================] - 1s 47ms/step\n"
     ]
    },
    {
     "name": "stderr",
     "output_type": "stream",
     "text": [
      " 17%|█████████████████████████████▋                                                                                                                                                  | 26/154 [04:51<23:26, 10.99s/it]"
     ]
    },
    {
     "name": "stdout",
     "output_type": "stream",
     "text": [
      "25/25 [==============================] - 1s 53ms/step\n",
      "25/25 [==============================] - 1s 52ms/step\n",
      "25/25 [==============================] - 1s 54ms/step\n",
      "25/25 [==============================] - 1s 22ms/step\n",
      "25/25 [==============================] - 1s 58ms/step\n",
      "25/25 [==============================] - 2s 62ms/step\n",
      "25/25 [==============================] - 1s 59ms/step\n",
      "25/25 [==============================] - 1s 47ms/step\n"
     ]
    },
    {
     "name": "stderr",
     "output_type": "stream",
     "text": [
      " 18%|██████████████████████████████▊                                                                                                                                                 | 27/154 [05:02<23:13, 10.98s/it]"
     ]
    },
    {
     "name": "stdout",
     "output_type": "stream",
     "text": [
      "25/25 [==============================] - 2s 61ms/step\n",
      "25/25 [==============================] - 2s 62ms/step\n",
      "25/25 [==============================] - 2s 60ms/step\n",
      "25/25 [==============================] - 1s 23ms/step\n",
      "25/25 [==============================] - 2s 60ms/step\n",
      "25/25 [==============================] - 2s 61ms/step\n",
      "25/25 [==============================] - 2s 63ms/step\n",
      "25/25 [==============================] - 1s 47ms/step\n"
     ]
    },
    {
     "name": "stderr",
     "output_type": "stream",
     "text": [
      " 18%|████████████████████████████████                                                                                                                                                | 28/154 [05:14<23:36, 11.24s/it]"
     ]
    },
    {
     "name": "stdout",
     "output_type": "stream",
     "text": [
      "25/25 [==============================] - 1s 48ms/step\n",
      "25/25 [==============================] - 1s 59ms/step\n",
      "25/25 [==============================] - 2s 62ms/step\n",
      "25/25 [==============================] - 1s 24ms/step\n",
      "25/25 [==============================] - 2s 65ms/step\n",
      "25/25 [==============================] - 2s 66ms/step\n",
      "25/25 [==============================] - 2s 61ms/step\n",
      "25/25 [==============================] - 1s 53ms/step\n"
     ]
    },
    {
     "name": "stderr",
     "output_type": "stream",
     "text": [
      " 19%|█████████████████████████████████▏                                                                                                                                              | 29/154 [05:25<23:44, 11.40s/it]"
     ]
    },
    {
     "name": "stdout",
     "output_type": "stream",
     "text": [
      "25/25 [==============================] - 1s 56ms/step\n",
      "25/25 [==============================] - 2s 60ms/step\n",
      "25/25 [==============================] - 2s 65ms/step\n",
      "25/25 [==============================] - 1s 23ms/step\n",
      "25/25 [==============================] - 2s 62ms/step\n",
      "25/25 [==============================] - 2s 61ms/step\n",
      "25/25 [==============================] - 1s 55ms/step\n",
      "25/25 [==============================] - 1s 47ms/step\n"
     ]
    },
    {
     "name": "stderr",
     "output_type": "stream",
     "text": [
      " 19%|██████████████████████████████████▎                                                                                                                                             | 30/154 [05:37<23:37, 11.43s/it]"
     ]
    },
    {
     "name": "stdout",
     "output_type": "stream",
     "text": [
      "25/25 [==============================] - 1s 46ms/step\n",
      "25/25 [==============================] - 1s 50ms/step\n",
      "25/25 [==============================] - 1s 54ms/step\n",
      "25/25 [==============================] - 1s 21ms/step\n",
      "25/25 [==============================] - 1s 57ms/step\n",
      "25/25 [==============================] - 1s 56ms/step\n",
      "25/25 [==============================] - 1s 55ms/step\n",
      "25/25 [==============================] - 1s 46ms/step\n"
     ]
    },
    {
     "name": "stderr",
     "output_type": "stream",
     "text": [
      " 20%|███████████████████████████████████▍                                                                                                                                            | 31/154 [05:47<22:46, 11.11s/it]"
     ]
    },
    {
     "name": "stdout",
     "output_type": "stream",
     "text": [
      "25/25 [==============================] - 1s 54ms/step\n",
      "25/25 [==============================] - 2s 73ms/step\n",
      "25/25 [==============================] - 2s 83ms/step\n",
      "25/25 [==============================] - 1s 37ms/step\n",
      "25/25 [==============================] - 2s 68ms/step\n",
      "25/25 [==============================] - 2s 78ms/step\n",
      "25/25 [==============================] - 2s 72ms/step\n",
      "25/25 [==============================] - 2s 61ms/step\n"
     ]
    },
    {
     "name": "stderr",
     "output_type": "stream",
     "text": [
      " 21%|████████████████████████████████████▌                                                                                                                                           | 32/154 [06:01<24:22, 11.99s/it]"
     ]
    },
    {
     "name": "stdout",
     "output_type": "stream",
     "text": [
      "25/25 [==============================] - 2s 65ms/step\n",
      "25/25 [==============================] - 2s 63ms/step\n",
      "25/25 [==============================] - 2s 74ms/step\n",
      "25/25 [==============================] - 1s 27ms/step\n",
      "25/25 [==============================] - 2s 60ms/step\n",
      "25/25 [==============================] - 2s 60ms/step\n",
      "25/25 [==============================] - 2s 67ms/step\n",
      "25/25 [==============================] - 2s 63ms/step\n"
     ]
    },
    {
     "name": "stderr",
     "output_type": "stream",
     "text": [
      " 21%|█████████████████████████████████████▋                                                                                                                                          | 33/154 [06:14<24:49, 12.31s/it]"
     ]
    },
    {
     "name": "stdout",
     "output_type": "stream",
     "text": [
      "25/25 [==============================] - 2s 61ms/step\n",
      "25/25 [==============================] - 2s 66ms/step\n",
      "25/25 [==============================] - 2s 61ms/step\n",
      "25/25 [==============================] - 1s 22ms/step\n",
      "25/25 [==============================] - 2s 69ms/step\n",
      "25/25 [==============================] - 2s 71ms/step\n",
      "25/25 [==============================] - 2s 60ms/step\n",
      "25/25 [==============================] - 1s 48ms/step\n"
     ]
    },
    {
     "name": "stderr",
     "output_type": "stream",
     "text": [
      " 22%|██████████████████████████████████████▊                                                                                                                                         | 34/154 [06:27<24:42, 12.36s/it]"
     ]
    },
    {
     "name": "stdout",
     "output_type": "stream",
     "text": [
      "25/25 [==============================] - 1s 47ms/step\n",
      "25/25 [==============================] - 1s 53ms/step\n",
      "25/25 [==============================] - 2s 75ms/step\n",
      "25/25 [==============================] - 1s 27ms/step\n",
      "25/25 [==============================] - 2s 75ms/step\n",
      "25/25 [==============================] - 2s 70ms/step\n",
      "25/25 [==============================] - 2s 67ms/step\n",
      "25/25 [==============================] - 1s 49ms/step\n"
     ]
    },
    {
     "name": "stderr",
     "output_type": "stream",
     "text": [
      " 23%|████████████████████████████████████████                                                                                                                                        | 35/154 [06:39<24:29, 12.35s/it]"
     ]
    },
    {
     "name": "stdout",
     "output_type": "stream",
     "text": [
      "25/25 [==============================] - 1s 47ms/step\n",
      "25/25 [==============================] - 1s 49ms/step\n",
      "25/25 [==============================] - 2s 63ms/step\n",
      "25/25 [==============================] - 1s 25ms/step\n",
      "25/25 [==============================] - 2s 62ms/step\n",
      "25/25 [==============================] - 1s 56ms/step\n",
      "25/25 [==============================] - 1s 57ms/step\n",
      "25/25 [==============================] - 1s 50ms/step\n"
     ]
    },
    {
     "name": "stderr",
     "output_type": "stream",
     "text": [
      " 23%|█████████████████████████████████████████▏                                                                                                                                      | 36/154 [06:50<23:32, 11.97s/it]"
     ]
    },
    {
     "name": "stdout",
     "output_type": "stream",
     "text": [
      "25/25 [==============================] - 2s 59ms/step\n",
      "25/25 [==============================] - 1s 51ms/step\n",
      "25/25 [==============================] - 1s 56ms/step\n",
      "25/25 [==============================] - 1s 22ms/step\n",
      "25/25 [==============================] - 2s 65ms/step\n",
      "25/25 [==============================] - 2s 66ms/step\n",
      "25/25 [==============================] - 1s 57ms/step\n",
      "25/25 [==============================] - 1s 49ms/step\n"
     ]
    },
    {
     "name": "stderr",
     "output_type": "stream",
     "text": [
      " 24%|██████████████████████████████████████████▎                                                                                                                                     | 37/154 [07:02<23:05, 11.84s/it]"
     ]
    },
    {
     "name": "stdout",
     "output_type": "stream",
     "text": [
      "25/25 [==============================] - 1s 52ms/step\n",
      "25/25 [==============================] - 1s 59ms/step\n",
      "25/25 [==============================] - 1s 55ms/step\n",
      "25/25 [==============================] - 1s 21ms/step\n",
      "25/25 [==============================] - 1s 56ms/step\n",
      "25/25 [==============================] - 1s 53ms/step\n",
      "25/25 [==============================] - 1s 55ms/step\n",
      "25/25 [==============================] - 1s 47ms/step\n"
     ]
    },
    {
     "name": "stderr",
     "output_type": "stream",
     "text": [
      " 25%|███████████████████████████████████████████▍                                                                                                                                    | 38/154 [07:13<22:16, 11.52s/it]"
     ]
    },
    {
     "name": "stdout",
     "output_type": "stream",
     "text": [
      "25/25 [==============================] - 1s 47ms/step\n",
      "25/25 [==============================] - 1s 50ms/step\n",
      "25/25 [==============================] - 2s 63ms/step\n",
      "25/25 [==============================] - 1s 31ms/step\n",
      "25/25 [==============================] - 1s 59ms/step\n",
      "25/25 [==============================] - 1s 57ms/step\n",
      "25/25 [==============================] - 1s 59ms/step\n",
      "25/25 [==============================] - 2s 61ms/step\n"
     ]
    },
    {
     "name": "stderr",
     "output_type": "stream",
     "text": [
      " 25%|████████████████████████████████████████████▌                                                                                                                                   | 39/154 [07:24<22:02, 11.50s/it]"
     ]
    },
    {
     "name": "stdout",
     "output_type": "stream",
     "text": [
      "25/25 [==============================] - 1s 49ms/step\n",
      "25/25 [==============================] - 1s 54ms/step\n",
      "25/25 [==============================] - 2s 60ms/step\n",
      "25/25 [==============================] - 1s 24ms/step\n",
      "25/25 [==============================] - 1s 58ms/step\n",
      "25/25 [==============================] - 1s 54ms/step\n",
      "25/25 [==============================] - 2s 60ms/step\n",
      "25/25 [==============================] - 1s 52ms/step\n"
     ]
    },
    {
     "name": "stderr",
     "output_type": "stream",
     "text": [
      " 26%|█████████████████████████████████████████████▋                                                                                                                                  | 40/154 [07:35<21:38, 11.39s/it]"
     ]
    },
    {
     "name": "stdout",
     "output_type": "stream",
     "text": [
      "25/25 [==============================] - 1s 56ms/step\n",
      "25/25 [==============================] - 2s 62ms/step\n",
      "25/25 [==============================] - 2s 66ms/step\n",
      "25/25 [==============================] - 1s 23ms/step\n",
      "25/25 [==============================] - 2s 60ms/step\n",
      "25/25 [==============================] - 1s 58ms/step\n",
      "25/25 [==============================] - 1s 56ms/step\n",
      "25/25 [==============================] - 1s 46ms/step\n"
     ]
    },
    {
     "name": "stderr",
     "output_type": "stream",
     "text": [
      " 27%|██████████████████████████████████████████████▊                                                                                                                                 | 41/154 [07:47<21:30, 11.42s/it]"
     ]
    },
    {
     "name": "stdout",
     "output_type": "stream",
     "text": [
      "25/25 [==============================] - 1s 52ms/step\n",
      "25/25 [==============================] - 2s 71ms/step\n",
      "25/25 [==============================] - 2s 69ms/step\n",
      "25/25 [==============================] - 1s 23ms/step\n",
      "25/25 [==============================] - 2s 61ms/step\n",
      "25/25 [==============================] - 1s 59ms/step\n",
      "25/25 [==============================] - 2s 64ms/step\n",
      "25/25 [==============================] - 2s 62ms/step\n"
     ]
    },
    {
     "name": "stderr",
     "output_type": "stream",
     "text": [
      " 27%|████████████████████████████████████████████████                                                                                                                                | 42/154 [07:59<21:51, 11.71s/it]"
     ]
    },
    {
     "name": "stdout",
     "output_type": "stream",
     "text": [
      "25/25 [==============================] - 2s 59ms/step\n",
      "25/25 [==============================] - 2s 68ms/step\n",
      "25/25 [==============================] - 2s 80ms/step\n",
      "25/25 [==============================] - 1s 28ms/step\n",
      "25/25 [==============================] - 2s 74ms/step\n",
      "25/25 [==============================] - 2s 67ms/step\n",
      "25/25 [==============================] - 2s 77ms/step\n",
      "25/25 [==============================] - 2s 62ms/step\n"
     ]
    },
    {
     "name": "stderr",
     "output_type": "stream",
     "text": [
      " 28%|█████████████████████████████████████████████████▏                                                                                                                              | 43/154 [08:13<22:57, 12.41s/it]"
     ]
    },
    {
     "name": "stdout",
     "output_type": "stream",
     "text": [
      "25/25 [==============================] - 2s 74ms/step\n",
      "25/25 [==============================] - 2s 68ms/step\n",
      "25/25 [==============================] - 2s 62ms/step\n",
      "25/25 [==============================] - 1s 24ms/step\n",
      "25/25 [==============================] - 2s 79ms/step\n",
      "25/25 [==============================] - 2s 79ms/step\n",
      "25/25 [==============================] - 2s 68ms/step\n",
      "25/25 [==============================] - 2s 73ms/step\n"
     ]
    },
    {
     "name": "stderr",
     "output_type": "stream",
     "text": [
      " 29%|██████████████████████████████████████████████████▎                                                                                                                             | 44/154 [08:27<23:45, 12.96s/it]"
     ]
    },
    {
     "name": "stdout",
     "output_type": "stream",
     "text": [
      "25/25 [==============================] - 1s 53ms/step\n",
      "25/25 [==============================] - 1s 52ms/step\n",
      "25/25 [==============================] - 2s 76ms/step\n",
      "25/25 [==============================] - 1s 28ms/step\n",
      "25/25 [==============================] - 2s 66ms/step\n",
      "25/25 [==============================] - 2s 64ms/step\n",
      "25/25 [==============================] - 2s 64ms/step\n",
      "25/25 [==============================] - 1s 50ms/step\n"
     ]
    },
    {
     "name": "stderr",
     "output_type": "stream",
     "text": [
      " 29%|███████████████████████████████████████████████████▍                                                                                                                            | 45/154 [08:40<23:10, 12.75s/it]"
     ]
    },
    {
     "name": "stdout",
     "output_type": "stream",
     "text": [
      "25/25 [==============================] - 1s 49ms/step\n",
      "25/25 [==============================] - 1s 56ms/step\n",
      "25/25 [==============================] - 1s 56ms/step\n",
      "25/25 [==============================] - 1s 21ms/step\n",
      "25/25 [==============================] - 1s 58ms/step\n",
      "25/25 [==============================] - 1s 58ms/step\n",
      "25/25 [==============================] - 2s 58ms/step\n",
      "25/25 [==============================] - 1s 49ms/step\n"
     ]
    },
    {
     "name": "stderr",
     "output_type": "stream",
     "text": [
      " 30%|████████████████████████████████████████████████████▌                                                                                                                           | 46/154 [08:51<22:03, 12.26s/it]"
     ]
    },
    {
     "name": "stdout",
     "output_type": "stream",
     "text": [
      "25/25 [==============================] - 1s 54ms/step\n",
      "25/25 [==============================] - 1s 56ms/step\n",
      "25/25 [==============================] - 1s 56ms/step\n",
      "25/25 [==============================] - 1s 22ms/step\n",
      "25/25 [==============================] - 1s 57ms/step\n",
      "25/25 [==============================] - 1s 55ms/step\n",
      "25/25 [==============================] - 1s 55ms/step\n",
      "25/25 [==============================] - 1s 49ms/step\n"
     ]
    },
    {
     "name": "stderr",
     "output_type": "stream",
     "text": [
      " 31%|█████████████████████████████████████████████████████▋                                                                                                                          | 47/154 [09:02<21:08, 11.85s/it]"
     ]
    },
    {
     "name": "stdout",
     "output_type": "stream",
     "text": [
      "25/25 [==============================] - 1s 55ms/step\n",
      "25/25 [==============================] - 1s 57ms/step\n",
      "25/25 [==============================] - 2s 68ms/step\n",
      "25/25 [==============================] - 1s 23ms/step\n",
      "25/25 [==============================] - 1s 57ms/step\n",
      "25/25 [==============================] - 1s 58ms/step\n",
      "25/25 [==============================] - 2s 62ms/step\n",
      "25/25 [==============================] - 1s 59ms/step\n"
     ]
    },
    {
     "name": "stderr",
     "output_type": "stream",
     "text": [
      " 31%|██████████████████████████████████████████████████████▊                                                                                                                         | 48/154 [09:13<20:55, 11.84s/it]"
     ]
    },
    {
     "name": "stdout",
     "output_type": "stream",
     "text": [
      "25/25 [==============================] - 1s 55ms/step\n",
      "25/25 [==============================] - 2s 68ms/step\n",
      "25/25 [==============================] - 1s 59ms/step\n",
      "25/25 [==============================] - 1s 21ms/step\n",
      "25/25 [==============================] - 2s 65ms/step\n",
      "25/25 [==============================] - 1s 56ms/step\n",
      "25/25 [==============================] - 2s 64ms/step\n",
      "25/25 [==============================] - 2s 72ms/step\n"
     ]
    },
    {
     "name": "stderr",
     "output_type": "stream",
     "text": [
      " 32%|████████████████████████████████████████████████████████                                                                                                                        | 49/154 [09:26<21:00, 12.00s/it]"
     ]
    },
    {
     "name": "stdout",
     "output_type": "stream",
     "text": [
      "25/25 [==============================] - 2s 69ms/step\n",
      "25/25 [==============================] - 2s 61ms/step\n",
      "25/25 [==============================] - 2s 64ms/step\n",
      "25/25 [==============================] - 1s 24ms/step\n",
      "25/25 [==============================] - 2s 64ms/step\n",
      "25/25 [==============================] - 2s 66ms/step\n",
      "25/25 [==============================] - 2s 63ms/step\n",
      "25/25 [==============================] - 1s 55ms/step\n"
     ]
    },
    {
     "name": "stderr",
     "output_type": "stream",
     "text": [
      " 32%|█████████████████████████████████████████████████████████▏                                                                                                                      | 50/154 [09:38<21:07, 12.19s/it]"
     ]
    },
    {
     "name": "stdout",
     "output_type": "stream",
     "text": [
      "25/25 [==============================] - 1s 51ms/step\n",
      "25/25 [==============================] - 1s 57ms/step\n",
      "25/25 [==============================] - 1s 56ms/step\n",
      "25/25 [==============================] - 1s 21ms/step\n",
      "25/25 [==============================] - 1s 57ms/step\n",
      "25/25 [==============================] - 1s 54ms/step\n",
      "25/25 [==============================] - 1s 53ms/step\n",
      "25/25 [==============================] - 1s 53ms/step\n"
     ]
    },
    {
     "name": "stderr",
     "output_type": "stream",
     "text": [
      " 33%|██████████████████████████████████████████████████████████▎                                                                                                                     | 51/154 [09:49<20:16, 11.81s/it]"
     ]
    },
    {
     "name": "stdout",
     "output_type": "stream",
     "text": [
      "25/25 [==============================] - 1s 48ms/step\n",
      "25/25 [==============================] - 1s 55ms/step\n",
      "25/25 [==============================] - 1s 56ms/step\n",
      "25/25 [==============================] - 1s 25ms/step\n",
      "25/25 [==============================] - 1s 58ms/step\n",
      "25/25 [==============================] - 1s 54ms/step\n",
      "25/25 [==============================] - 1s 55ms/step\n",
      "25/25 [==============================] - 1s 46ms/step\n"
     ]
    },
    {
     "name": "stderr",
     "output_type": "stream",
     "text": [
      " 34%|███████████████████████████████████████████████████████████▍                                                                                                                    | 52/154 [10:00<19:32, 11.49s/it]"
     ]
    },
    {
     "name": "stdout",
     "output_type": "stream",
     "text": [
      "25/25 [==============================] - 1s 48ms/step\n",
      "25/25 [==============================] - 1s 49ms/step\n",
      "25/25 [==============================] - 1s 55ms/step\n",
      "25/25 [==============================] - 1s 22ms/step\n",
      "25/25 [==============================] - 1s 57ms/step\n",
      "25/25 [==============================] - 2s 63ms/step\n",
      "25/25 [==============================] - 2s 60ms/step\n",
      "25/25 [==============================] - 1s 51ms/step\n"
     ]
    },
    {
     "name": "stderr",
     "output_type": "stream",
     "text": [
      " 34%|████████████████████████████████████████████████████████████▌                                                                                                                   | 53/154 [10:11<19:01, 11.30s/it]"
     ]
    },
    {
     "name": "stdout",
     "output_type": "stream",
     "text": [
      "25/25 [==============================] - 1s 52ms/step\n",
      "25/25 [==============================] - 1s 52ms/step\n",
      "25/25 [==============================] - 1s 58ms/step\n",
      "25/25 [==============================] - 1s 22ms/step\n",
      "25/25 [==============================] - 1s 56ms/step\n",
      "25/25 [==============================] - 2s 60ms/step\n",
      "25/25 [==============================] - 1s 58ms/step\n",
      "25/25 [==============================] - 1s 53ms/step\n"
     ]
    },
    {
     "name": "stderr",
     "output_type": "stream",
     "text": [
      " 35%|█████████████████████████████████████████████████████████████▋                                                                                                                  | 54/154 [10:22<18:45, 11.25s/it]"
     ]
    },
    {
     "name": "stdout",
     "output_type": "stream",
     "text": [
      "25/25 [==============================] - 1s 50ms/step\n",
      "25/25 [==============================] - 2s 62ms/step\n",
      "25/25 [==============================] - 2s 61ms/step\n",
      "25/25 [==============================] - 1s 29ms/step\n",
      "25/25 [==============================] - 2s 64ms/step\n",
      "25/25 [==============================] - 2s 76ms/step\n",
      "25/25 [==============================] - 2s 82ms/step\n",
      "25/25 [==============================] - 1s 59ms/step\n"
     ]
    },
    {
     "name": "stderr",
     "output_type": "stream",
     "text": [
      " 36%|██████████████████████████████████████████████████████████████▊                                                                                                                 | 55/154 [10:35<19:24, 11.76s/it]"
     ]
    },
    {
     "name": "stdout",
     "output_type": "stream",
     "text": [
      "25/25 [==============================] - 1s 55ms/step\n",
      "25/25 [==============================] - 2s 78ms/step\n",
      "25/25 [==============================] - 2s 71ms/step\n",
      "25/25 [==============================] - 1s 31ms/step\n",
      "25/25 [==============================] - 2s 78ms/step\n",
      "25/25 [==============================] - 2s 68ms/step\n",
      "25/25 [==============================] - 2s 63ms/step\n",
      "25/25 [==============================] - 1s 54ms/step\n"
     ]
    },
    {
     "name": "stderr",
     "output_type": "stream",
     "text": [
      " 36%|████████████████████████████████████████████████████████████████                                                                                                                | 56/154 [10:48<19:59, 12.24s/it]"
     ]
    },
    {
     "name": "stdout",
     "output_type": "stream",
     "text": [
      "25/25 [==============================] - 1s 56ms/step\n",
      "25/25 [==============================] - 2s 60ms/step\n",
      "25/25 [==============================] - 2s 65ms/step\n",
      "25/25 [==============================] - 1s 25ms/step\n",
      "25/25 [==============================] - 2s 63ms/step\n",
      "25/25 [==============================] - 2s 61ms/step\n",
      "25/25 [==============================] - 2s 72ms/step\n",
      "25/25 [==============================] - 2s 73ms/step\n"
     ]
    },
    {
     "name": "stderr",
     "output_type": "stream",
     "text": [
      " 37%|█████████████████████████████████████████████████████████████████▏                                                                                                              | 57/154 [11:01<20:00, 12.38s/it]"
     ]
    },
    {
     "name": "stdout",
     "output_type": "stream",
     "text": [
      "25/25 [==============================] - 2s 62ms/step\n",
      "25/25 [==============================] - 2s 79ms/step\n",
      "25/25 [==============================] - 2s 82ms/step\n",
      "25/25 [==============================] - 1s 30ms/step\n",
      "25/25 [==============================] - 2s 69ms/step\n",
      "25/25 [==============================] - 2s 69ms/step\n",
      "25/25 [==============================] - 2s 66ms/step\n",
      "25/25 [==============================] - 2s 64ms/step\n"
     ]
    },
    {
     "name": "stderr",
     "output_type": "stream",
     "text": [
      " 38%|██████████████████████████████████████████████████████████████████▎                                                                                                             | 58/154 [11:15<20:35, 12.87s/it]"
     ]
    },
    {
     "name": "stdout",
     "output_type": "stream",
     "text": [
      "25/25 [==============================] - 2s 63ms/step\n",
      "25/25 [==============================] - 1s 59ms/step\n",
      "25/25 [==============================] - 2s 68ms/step\n",
      "25/25 [==============================] - 1s 25ms/step\n",
      "25/25 [==============================] - 2s 63ms/step\n",
      "25/25 [==============================] - 2s 63ms/step\n",
      "25/25 [==============================] - 2s 65ms/step\n",
      "25/25 [==============================] - 1s 57ms/step\n"
     ]
    },
    {
     "name": "stderr",
     "output_type": "stream",
     "text": [
      " 38%|███████████████████████████████████████████████████████████████████▍                                                                                                            | 59/154 [11:28<20:15, 12.80s/it]"
     ]
    },
    {
     "name": "stdout",
     "output_type": "stream",
     "text": [
      "25/25 [==============================] - 1s 54ms/step\n",
      "25/25 [==============================] - 2s 62ms/step\n",
      "25/25 [==============================] - 2s 65ms/step\n",
      "25/25 [==============================] - 1s 24ms/step\n",
      "25/25 [==============================] - 2s 73ms/step\n",
      "25/25 [==============================] - 2s 79ms/step\n",
      "25/25 [==============================] - 2s 88ms/step\n",
      "25/25 [==============================] - 1s 52ms/step\n"
     ]
    },
    {
     "name": "stderr",
     "output_type": "stream",
     "text": [
      " 39%|████████████████████████████████████████████████████████████████████▌                                                                                                           | 60/154 [11:41<20:20, 12.98s/it]"
     ]
    },
    {
     "name": "stdout",
     "output_type": "stream",
     "text": [
      "25/25 [==============================] - 1s 48ms/step\n",
      "25/25 [==============================] - 1s 53ms/step\n",
      "25/25 [==============================] - 1s 59ms/step\n",
      "25/25 [==============================] - 1s 28ms/step\n",
      "25/25 [==============================] - 2s 64ms/step\n",
      "25/25 [==============================] - 1s 59ms/step\n",
      "25/25 [==============================] - 2s 64ms/step\n",
      "25/25 [==============================] - 1s 56ms/step\n"
     ]
    },
    {
     "name": "stderr",
     "output_type": "stream",
     "text": [
      " 40%|█████████████████████████████████████████████████████████████████████▋                                                                                                          | 61/154 [11:53<19:30, 12.59s/it]"
     ]
    },
    {
     "name": "stdout",
     "output_type": "stream",
     "text": [
      "25/25 [==============================] - 1s 53ms/step\n",
      "25/25 [==============================] - 1s 59ms/step\n",
      "25/25 [==============================] - 1s 59ms/step\n",
      "25/25 [==============================] - 1s 27ms/step\n",
      "25/25 [==============================] - 2s 64ms/step\n",
      "25/25 [==============================] - 1s 57ms/step\n",
      "25/25 [==============================] - 1s 59ms/step\n",
      "25/25 [==============================] - 1s 49ms/step\n"
     ]
    },
    {
     "name": "stderr",
     "output_type": "stream",
     "text": [
      " 40%|██████████████████████████████████████████████████████████████████████▊                                                                                                         | 62/154 [12:04<18:46, 12.24s/it]"
     ]
    },
    {
     "name": "stdout",
     "output_type": "stream",
     "text": [
      "25/25 [==============================] - 1s 54ms/step\n",
      "25/25 [==============================] - 2s 63ms/step\n",
      "25/25 [==============================] - 2s 60ms/step\n",
      "25/25 [==============================] - 1s 22ms/step\n",
      "25/25 [==============================] - 2s 61ms/step\n",
      "25/25 [==============================] - 2s 62ms/step\n",
      "25/25 [==============================] - 1s 58ms/step\n",
      "25/25 [==============================] - 1s 49ms/step\n"
     ]
    },
    {
     "name": "stderr",
     "output_type": "stream",
     "text": [
      " 41%|████████████████████████████████████████████████████████████████████████                                                                                                        | 63/154 [12:16<18:14, 12.03s/it]"
     ]
    },
    {
     "name": "stdout",
     "output_type": "stream",
     "text": [
      "25/25 [==============================] - 1s 57ms/step\n",
      "25/25 [==============================] - 1s 51ms/step\n",
      "25/25 [==============================] - 2s 62ms/step\n",
      "25/25 [==============================] - 1s 21ms/step\n",
      "25/25 [==============================] - 2s 65ms/step\n",
      "25/25 [==============================] - 1s 58ms/step\n",
      "25/25 [==============================] - 1s 56ms/step\n",
      "25/25 [==============================] - 1s 47ms/step\n"
     ]
    },
    {
     "name": "stderr",
     "output_type": "stream",
     "text": [
      " 42%|█████████████████████████████████████████████████████████████████████████▏                                                                                                      | 64/154 [12:27<17:42, 11.81s/it]"
     ]
    },
    {
     "name": "stdout",
     "output_type": "stream",
     "text": [
      "25/25 [==============================] - 1s 47ms/step\n",
      "25/25 [==============================] - 1s 50ms/step\n",
      "25/25 [==============================] - 1s 55ms/step\n",
      "25/25 [==============================] - 1s 21ms/step\n",
      "25/25 [==============================] - 1s 56ms/step\n",
      "25/25 [==============================] - 1s 57ms/step\n",
      "25/25 [==============================] - 1s 54ms/step\n",
      "25/25 [==============================] - 1s 49ms/step\n"
     ]
    },
    {
     "name": "stderr",
     "output_type": "stream",
     "text": [
      " 42%|██████████████████████████████████████████████████████████████████████████▎                                                                                                     | 65/154 [12:38<16:56, 11.42s/it]"
     ]
    },
    {
     "name": "stdout",
     "output_type": "stream",
     "text": [
      "25/25 [==============================] - 1s 45ms/step\n",
      "25/25 [==============================] - 1s 51ms/step\n",
      "25/25 [==============================] - 1s 55ms/step\n",
      "25/25 [==============================] - 1s 21ms/step\n",
      "25/25 [==============================] - 1s 54ms/step\n",
      "25/25 [==============================] - 1s 57ms/step\n",
      "25/25 [==============================] - 1s 57ms/step\n",
      "25/25 [==============================] - 1s 52ms/step\n"
     ]
    },
    {
     "name": "stderr",
     "output_type": "stream",
     "text": [
      " 43%|███████████████████████████████████████████████████████████████████████████▍                                                                                                    | 66/154 [12:48<16:21, 11.16s/it]"
     ]
    },
    {
     "name": "stdout",
     "output_type": "stream",
     "text": [
      "25/25 [==============================] - 1s 53ms/step\n",
      "25/25 [==============================] - 1s 53ms/step\n",
      "25/25 [==============================] - 1s 58ms/step\n",
      "25/25 [==============================] - 1s 21ms/step\n",
      "25/25 [==============================] - 2s 60ms/step\n",
      "25/25 [==============================] - 1s 59ms/step\n",
      "25/25 [==============================] - 1s 55ms/step\n",
      "25/25 [==============================] - 1s 48ms/step\n"
     ]
    },
    {
     "name": "stderr",
     "output_type": "stream",
     "text": [
      " 44%|████████████████████████████████████████████████████████████████████████████▌                                                                                                   | 67/154 [12:59<16:05, 11.10s/it]"
     ]
    },
    {
     "name": "stdout",
     "output_type": "stream",
     "text": [
      "25/25 [==============================] - 1s 57ms/step\n",
      "25/25 [==============================] - 2s 61ms/step\n",
      "25/25 [==============================] - 2s 62ms/step\n",
      "25/25 [==============================] - 1s 28ms/step\n",
      "25/25 [==============================] - 2s 90ms/step\n",
      "25/25 [==============================] - 2s 88ms/step\n",
      "25/25 [==============================] - 2s 68ms/step\n",
      "25/25 [==============================] - 1s 54ms/step\n"
     ]
    },
    {
     "name": "stderr",
     "output_type": "stream",
     "text": [
      " 44%|█████████████████████████████████████████████████████████████████████████████▋                                                                                                  | 68/154 [13:13<17:00, 11.86s/it]"
     ]
    },
    {
     "name": "stdout",
     "output_type": "stream",
     "text": [
      "25/25 [==============================] - 1s 50ms/step\n",
      "25/25 [==============================] - 1s 55ms/step\n",
      "25/25 [==============================] - 1s 57ms/step\n",
      "25/25 [==============================] - 1s 30ms/step\n",
      "25/25 [==============================] - 2s 67ms/step\n",
      "25/25 [==============================] - 1s 59ms/step\n",
      "25/25 [==============================] - 1s 55ms/step\n",
      "25/25 [==============================] - 1s 50ms/step\n"
     ]
    },
    {
     "name": "stderr",
     "output_type": "stream",
     "text": [
      " 45%|██████████████████████████████████████████████████████████████████████████████▊                                                                                                 | 69/154 [13:24<16:40, 11.78s/it]"
     ]
    },
    {
     "name": "stdout",
     "output_type": "stream",
     "text": [
      "25/25 [==============================] - 1s 50ms/step\n",
      "25/25 [==============================] - 1s 59ms/step\n",
      "25/25 [==============================] - 2s 61ms/step\n",
      "25/25 [==============================] - 1s 22ms/step\n",
      "25/25 [==============================] - 1s 55ms/step\n",
      "25/25 [==============================] - 1s 55ms/step\n",
      "25/25 [==============================] - 1s 56ms/step\n",
      "25/25 [==============================] - 1s 48ms/step\n"
     ]
    },
    {
     "name": "stderr",
     "output_type": "stream",
     "text": [
      " 45%|████████████████████████████████████████████████████████████████████████████████                                                                                                | 70/154 [13:35<16:06, 11.51s/it]"
     ]
    },
    {
     "name": "stdout",
     "output_type": "stream",
     "text": [
      "25/25 [==============================] - 1s 52ms/step\n",
      "25/25 [==============================] - 2s 63ms/step\n",
      "25/25 [==============================] - 2s 62ms/step\n",
      "25/25 [==============================] - 1s 24ms/step\n",
      "25/25 [==============================] - 2s 64ms/step\n",
      "25/25 [==============================] - 1s 58ms/step\n",
      "25/25 [==============================] - 1s 58ms/step\n",
      "25/25 [==============================] - 1s 49ms/step\n"
     ]
    },
    {
     "name": "stderr",
     "output_type": "stream",
     "text": [
      " 46%|█████████████████████████████████████████████████████████████████████████████████▏                                                                                              | 71/154 [13:47<15:53, 11.49s/it]"
     ]
    },
    {
     "name": "stdout",
     "output_type": "stream",
     "text": [
      "25/25 [==============================] - 1s 47ms/step\n",
      "25/25 [==============================] - 1s 55ms/step\n",
      "25/25 [==============================] - 1s 57ms/step\n",
      "25/25 [==============================] - 1s 25ms/step\n",
      "25/25 [==============================] - 2s 60ms/step\n",
      "25/25 [==============================] - 1s 60ms/step\n",
      "25/25 [==============================] - 1s 58ms/step\n",
      "25/25 [==============================] - 1s 52ms/step\n"
     ]
    },
    {
     "name": "stderr",
     "output_type": "stream",
     "text": [
      " 47%|██████████████████████████████████████████████████████████████████████████████████▎                                                                                             | 72/154 [13:58<15:32, 11.37s/it]"
     ]
    },
    {
     "name": "stdout",
     "output_type": "stream",
     "text": [
      "25/25 [==============================] - 1s 47ms/step\n",
      "25/25 [==============================] - 1s 51ms/step\n",
      "25/25 [==============================] - 1s 57ms/step\n",
      "25/25 [==============================] - 1s 23ms/step\n",
      "25/25 [==============================] - 2s 61ms/step\n",
      "25/25 [==============================] - 1s 58ms/step\n",
      "25/25 [==============================] - 1s 57ms/step\n",
      "25/25 [==============================] - 1s 49ms/step\n"
     ]
    },
    {
     "name": "stderr",
     "output_type": "stream",
     "text": [
      " 47%|███████████████████████████████████████████████████████████████████████████████████▍                                                                                            | 73/154 [14:09<15:09, 11.22s/it]"
     ]
    },
    {
     "name": "stdout",
     "output_type": "stream",
     "text": [
      "25/25 [==============================] - 1s 55ms/step\n",
      "25/25 [==============================] - 1s 52ms/step\n",
      "25/25 [==============================] - 1s 55ms/step\n",
      "25/25 [==============================] - 1s 22ms/step\n",
      "25/25 [==============================] - 2s 63ms/step\n",
      "25/25 [==============================] - 2s 59ms/step\n",
      "25/25 [==============================] - 1s 57ms/step\n",
      "25/25 [==============================] - 1s 50ms/step\n"
     ]
    },
    {
     "name": "stderr",
     "output_type": "stream",
     "text": [
      " 48%|████████████████████████████████████████████████████████████████████████████████████▌                                                                                           | 74/154 [14:20<14:56, 11.20s/it]"
     ]
    },
    {
     "name": "stdout",
     "output_type": "stream",
     "text": [
      "25/25 [==============================] - 1s 51ms/step\n",
      "25/25 [==============================] - 1s 53ms/step\n",
      "25/25 [==============================] - 1s 56ms/step\n",
      "25/25 [==============================] - 1s 22ms/step\n",
      "25/25 [==============================] - 2s 59ms/step\n",
      "25/25 [==============================] - 1s 54ms/step\n",
      "25/25 [==============================] - 1s 54ms/step\n",
      "25/25 [==============================] - 1s 48ms/step\n"
     ]
    },
    {
     "name": "stderr",
     "output_type": "stream",
     "text": [
      " 49%|█████████████████████████████████████████████████████████████████████████████████████▋                                                                                          | 75/154 [14:31<14:33, 11.06s/it]"
     ]
    },
    {
     "name": "stdout",
     "output_type": "stream",
     "text": [
      "25/25 [==============================] - 1s 47ms/step\n",
      "25/25 [==============================] - 1s 52ms/step\n",
      "25/25 [==============================] - 1s 53ms/step\n",
      "25/25 [==============================] - 1s 22ms/step\n",
      "25/25 [==============================] - 1s 59ms/step\n",
      "25/25 [==============================] - 1s 55ms/step\n",
      "25/25 [==============================] - 1s 55ms/step\n",
      "25/25 [==============================] - 1s 58ms/step\n"
     ]
    },
    {
     "name": "stderr",
     "output_type": "stream",
     "text": [
      " 49%|██████████████████████████████████████████████████████████████████████████████████████▊                                                                                         | 76/154 [14:41<14:18, 11.01s/it]"
     ]
    },
    {
     "name": "stdout",
     "output_type": "stream",
     "text": [
      "25/25 [==============================] - 1s 56ms/step\n",
      "25/25 [==============================] - 1s 53ms/step\n",
      "25/25 [==============================] - 2s 62ms/step\n",
      "25/25 [==============================] - 1s 25ms/step\n",
      "25/25 [==============================] - 1s 59ms/step\n",
      "25/25 [==============================] - 1s 58ms/step\n",
      "25/25 [==============================] - 1s 55ms/step\n",
      "25/25 [==============================] - 1s 49ms/step\n"
     ]
    },
    {
     "name": "stderr",
     "output_type": "stream",
     "text": [
      " 50%|████████████████████████████████████████████████████████████████████████████████████████                                                                                        | 77/154 [14:53<14:11, 11.05s/it]"
     ]
    },
    {
     "name": "stdout",
     "output_type": "stream",
     "text": [
      "25/25 [==============================] - 1s 47ms/step\n",
      "25/25 [==============================] - 1s 51ms/step\n",
      "25/25 [==============================] - 1s 56ms/step\n",
      "25/25 [==============================] - 1s 24ms/step\n",
      "25/25 [==============================] - 2s 61ms/step\n",
      "25/25 [==============================] - 2s 60ms/step\n",
      "25/25 [==============================] - 1s 55ms/step\n",
      "25/25 [==============================] - 1s 49ms/step\n"
     ]
    },
    {
     "name": "stderr",
     "output_type": "stream",
     "text": [
      " 51%|█████████████████████████████████████████████████████████████████████████████████████████▏                                                                                      | 78/154 [15:03<13:54, 10.99s/it]"
     ]
    },
    {
     "name": "stdout",
     "output_type": "stream",
     "text": [
      "25/25 [==============================] - 1s 49ms/step\n",
      "25/25 [==============================] - 1s 51ms/step\n",
      "25/25 [==============================] - 2s 63ms/step\n",
      "25/25 [==============================] - 1s 25ms/step\n",
      "25/25 [==============================] - 1s 55ms/step\n",
      "25/25 [==============================] - 1s 56ms/step\n",
      "25/25 [==============================] - 1s 55ms/step\n",
      "25/25 [==============================] - 1s 48ms/step\n"
     ]
    },
    {
     "name": "stderr",
     "output_type": "stream",
     "text": [
      " 51%|██████████████████████████████████████████████████████████████████████████████████████████▎                                                                                     | 79/154 [15:14<13:42, 10.97s/it]"
     ]
    },
    {
     "name": "stdout",
     "output_type": "stream",
     "text": [
      "25/25 [==============================] - 1s 52ms/step\n",
      "25/25 [==============================] - 1s 52ms/step\n",
      "25/25 [==============================] - 1s 57ms/step\n",
      "25/25 [==============================] - 1s 24ms/step\n",
      "25/25 [==============================] - 2s 87ms/step\n",
      "25/25 [==============================] - 2s 78ms/step\n",
      "25/25 [==============================] - 2s 68ms/step\n",
      "25/25 [==============================] - 2s 68ms/step\n"
     ]
    },
    {
     "name": "stderr",
     "output_type": "stream",
     "text": [
      " 52%|███████████████████████████████████████████████████████████████████████████████████████████▍                                                                                    | 80/154 [15:27<14:17, 11.59s/it]"
     ]
    },
    {
     "name": "stdout",
     "output_type": "stream",
     "text": [
      "25/25 [==============================] - 2s 73ms/step\n",
      "25/25 [==============================] - 2s 75ms/step\n",
      "25/25 [==============================] - 2s 68ms/step\n",
      "25/25 [==============================] - 1s 27ms/step\n",
      "25/25 [==============================] - 2s 66ms/step\n",
      "25/25 [==============================] - 2s 67ms/step\n",
      "25/25 [==============================] - 2s 65ms/step\n",
      "25/25 [==============================] - 1s 56ms/step\n"
     ]
    },
    {
     "name": "stderr",
     "output_type": "stream",
     "text": [
      " 53%|████████████████████████████████████████████████████████████████████████████████████████████▌                                                                                   | 81/154 [15:41<14:41, 12.08s/it]"
     ]
    },
    {
     "name": "stdout",
     "output_type": "stream",
     "text": [
      "25/25 [==============================] - 1s 58ms/step\n",
      "25/25 [==============================] - 1s 60ms/step\n",
      "25/25 [==============================] - 2s 66ms/step\n",
      "25/25 [==============================] - 1s 34ms/step\n",
      "25/25 [==============================] - 2s 69ms/step\n",
      "25/25 [==============================] - 2s 61ms/step\n",
      "25/25 [==============================] - 2s 62ms/step\n",
      "25/25 [==============================] - 1s 48ms/step\n"
     ]
    },
    {
     "name": "stderr",
     "output_type": "stream",
     "text": [
      " 53%|█████████████████████████████████████████████████████████████████████████████████████████████▋                                                                                  | 82/154 [15:53<14:36, 12.17s/it]"
     ]
    },
    {
     "name": "stdout",
     "output_type": "stream",
     "text": [
      "25/25 [==============================] - 1s 48ms/step\n",
      "25/25 [==============================] - 1s 50ms/step\n",
      "25/25 [==============================] - 1s 56ms/step\n",
      "25/25 [==============================] - 1s 24ms/step\n",
      "25/25 [==============================] - 2s 64ms/step\n",
      "25/25 [==============================] - 2s 67ms/step\n",
      "25/25 [==============================] - 1s 59ms/step\n",
      "25/25 [==============================] - 1s 56ms/step\n"
     ]
    },
    {
     "name": "stderr",
     "output_type": "stream",
     "text": [
      " 54%|██████████████████████████████████████████████████████████████████████████████████████████████▊                                                                                 | 83/154 [16:04<14:08, 11.95s/it]"
     ]
    },
    {
     "name": "stdout",
     "output_type": "stream",
     "text": [
      "25/25 [==============================] - 1s 50ms/step\n",
      "25/25 [==============================] - 1s 53ms/step\n",
      "25/25 [==============================] - 2s 59ms/step\n",
      "25/25 [==============================] - 1s 21ms/step\n",
      "25/25 [==============================] - 2s 66ms/step\n",
      "25/25 [==============================] - 1s 58ms/step\n",
      "25/25 [==============================] - 2s 70ms/step\n",
      "25/25 [==============================] - 1s 51ms/step\n"
     ]
    },
    {
     "name": "stderr",
     "output_type": "stream",
     "text": [
      " 55%|████████████████████████████████████████████████████████████████████████████████████████████████                                                                                | 84/154 [16:16<13:48, 11.84s/it]"
     ]
    },
    {
     "name": "stdout",
     "output_type": "stream",
     "text": [
      "25/25 [==============================] - 1s 52ms/step\n",
      "25/25 [==============================] - 1s 52ms/step\n",
      "25/25 [==============================] - 1s 59ms/step\n",
      "25/25 [==============================] - 1s 21ms/step\n",
      "25/25 [==============================] - 1s 56ms/step\n",
      "25/25 [==============================] - 1s 56ms/step\n",
      "25/25 [==============================] - 1s 58ms/step\n",
      "25/25 [==============================] - 1s 48ms/step\n"
     ]
    },
    {
     "name": "stderr",
     "output_type": "stream",
     "text": [
      " 55%|█████████████████████████████████████████████████████████████████████████████████████████████████▏                                                                              | 85/154 [16:27<13:15, 11.53s/it]"
     ]
    },
    {
     "name": "stdout",
     "output_type": "stream",
     "text": [
      "25/25 [==============================] - 1s 47ms/step\n",
      "25/25 [==============================] - 1s 49ms/step\n",
      "25/25 [==============================] - 1s 55ms/step\n",
      "25/25 [==============================] - 1s 25ms/step\n",
      "25/25 [==============================] - 2s 60ms/step\n",
      "25/25 [==============================] - 1s 59ms/step\n",
      "25/25 [==============================] - 1s 56ms/step\n",
      "25/25 [==============================] - 1s 50ms/step\n"
     ]
    },
    {
     "name": "stderr",
     "output_type": "stream",
     "text": [
      " 56%|██████████████████████████████████████████████████████████████████████████████████████████████████▎                                                                             | 86/154 [16:38<12:50, 11.32s/it]"
     ]
    },
    {
     "name": "stdout",
     "output_type": "stream",
     "text": [
      "25/25 [==============================] - 1s 48ms/step\n",
      "25/25 [==============================] - 1s 54ms/step\n",
      "25/25 [==============================] - 1s 56ms/step\n",
      "25/25 [==============================] - 1s 22ms/step\n",
      "25/25 [==============================] - 1s 57ms/step\n",
      "25/25 [==============================] - 1s 57ms/step\n",
      "25/25 [==============================] - 1s 59ms/step\n",
      "25/25 [==============================] - 1s 50ms/step\n"
     ]
    },
    {
     "name": "stderr",
     "output_type": "stream",
     "text": [
      " 56%|███████████████████████████████████████████████████████████████████████████████████████████████████▍                                                                            | 87/154 [16:48<12:28, 11.17s/it]"
     ]
    },
    {
     "name": "stdout",
     "output_type": "stream",
     "text": [
      "25/25 [==============================] - 1s 57ms/step\n",
      "25/25 [==============================] - 1s 52ms/step\n",
      "25/25 [==============================] - 2s 60ms/step\n",
      "25/25 [==============================] - 1s 22ms/step\n",
      "25/25 [==============================] - 1s 56ms/step\n",
      "25/25 [==============================] - 2s 62ms/step\n",
      "25/25 [==============================] - 2s 60ms/step\n",
      "25/25 [==============================] - 1s 48ms/step\n"
     ]
    },
    {
     "name": "stderr",
     "output_type": "stream",
     "text": [
      " 57%|████████████████████████████████████████████████████████████████████████████████████████████████████▌                                                                           | 88/154 [17:00<12:20, 11.23s/it]"
     ]
    },
    {
     "name": "stdout",
     "output_type": "stream",
     "text": [
      "25/25 [==============================] - 1s 49ms/step\n",
      "25/25 [==============================] - 1s 51ms/step\n",
      "25/25 [==============================] - 1s 56ms/step\n",
      "25/25 [==============================] - 1s 21ms/step\n",
      "25/25 [==============================] - 1s 57ms/step\n",
      "25/25 [==============================] - 1s 56ms/step\n",
      "25/25 [==============================] - 1s 58ms/step\n",
      "25/25 [==============================] - 1s 55ms/step\n"
     ]
    },
    {
     "name": "stderr",
     "output_type": "stream",
     "text": [
      " 58%|█████████████████████████████████████████████████████████████████████████████████████████████████████▋                                                                          | 89/154 [17:11<12:02, 11.12s/it]"
     ]
    },
    {
     "name": "stdout",
     "output_type": "stream",
     "text": [
      "25/25 [==============================] - 1s 51ms/step\n",
      "25/25 [==============================] - 1s 52ms/step\n",
      "25/25 [==============================] - 2s 60ms/step\n",
      "25/25 [==============================] - 1s 21ms/step\n",
      "25/25 [==============================] - 1s 58ms/step\n",
      "25/25 [==============================] - 1s 58ms/step\n",
      "25/25 [==============================] - 2s 61ms/step\n",
      "25/25 [==============================] - 1s 51ms/step\n"
     ]
    },
    {
     "name": "stderr",
     "output_type": "stream",
     "text": [
      " 58%|██████████████████████████████████████████████████████████████████████████████████████████████████████▊                                                                         | 90/154 [17:22<11:50, 11.10s/it]"
     ]
    },
    {
     "name": "stdout",
     "output_type": "stream",
     "text": [
      "25/25 [==============================] - 1s 49ms/step\n",
      "25/25 [==============================] - 1s 56ms/step\n",
      "25/25 [==============================] - 1s 58ms/step\n",
      "25/25 [==============================] - 1s 21ms/step\n",
      "25/25 [==============================] - 1s 56ms/step\n",
      "25/25 [==============================] - 1s 55ms/step\n",
      "25/25 [==============================] - 1s 56ms/step\n",
      "25/25 [==============================] - 1s 47ms/step\n"
     ]
    },
    {
     "name": "stderr",
     "output_type": "stream",
     "text": [
      " 59%|████████████████████████████████████████████████████████████████████████████████████████████████████████                                                                        | 91/154 [17:32<11:31, 10.98s/it]"
     ]
    },
    {
     "name": "stdout",
     "output_type": "stream",
     "text": [
      "25/25 [==============================] - 1s 46ms/step\n",
      "25/25 [==============================] - 1s 55ms/step\n",
      "25/25 [==============================] - 1s 55ms/step\n",
      "25/25 [==============================] - 1s 22ms/step\n",
      "25/25 [==============================] - 1s 60ms/step\n",
      "25/25 [==============================] - 1s 57ms/step\n",
      "25/25 [==============================] - 2s 61ms/step\n",
      "25/25 [==============================] - 1s 56ms/step\n"
     ]
    },
    {
     "name": "stderr",
     "output_type": "stream",
     "text": [
      " 60%|█████████████████████████████████████████████████████████████████████████████████████████████████████████▏                                                                      | 92/154 [17:44<11:22, 11.00s/it]"
     ]
    },
    {
     "name": "stdout",
     "output_type": "stream",
     "text": [
      "25/25 [==============================] - 1s 48ms/step\n",
      "25/25 [==============================] - 1s 58ms/step\n",
      "25/25 [==============================] - 1s 57ms/step\n",
      "25/25 [==============================] - 1s 28ms/step\n",
      "25/25 [==============================] - 2s 60ms/step\n",
      "25/25 [==============================] - 2s 64ms/step\n",
      "25/25 [==============================] - 1s 59ms/step\n",
      "25/25 [==============================] - 1s 48ms/step\n"
     ]
    },
    {
     "name": "stderr",
     "output_type": "stream",
     "text": [
      " 60%|██████████████████████████████████████████████████████████████████████████████████████████████████████████▎                                                                     | 93/154 [17:55<11:17, 11.10s/it]"
     ]
    },
    {
     "name": "stdout",
     "output_type": "stream",
     "text": [
      "25/25 [==============================] - 2s 73ms/step\n",
      "25/25 [==============================] - 2s 62ms/step\n",
      "25/25 [==============================] - 2s 64ms/step\n",
      "25/25 [==============================] - 1s 23ms/step\n",
      "25/25 [==============================] - 450s 19s/step\n",
      "25/25 [==============================] - 2s 68ms/step\n",
      "25/25 [==============================] - 2s 68ms/step\n",
      "25/25 [==============================] - 1s 55ms/step\n"
     ]
    },
    {
     "name": "stderr",
     "output_type": "stream",
     "text": [
      " 61%|█████████████████████████████████████████████████████████████████████████████████████████████████████████▌                                                                   | 94/154 [25:36<2:26:09, 146.15s/it]"
     ]
    },
    {
     "name": "stdout",
     "output_type": "stream",
     "text": [
      "25/25 [==============================] - 2s 58ms/step\n",
      "25/25 [==============================] - 109s 5s/step\n",
      "25/25 [==============================] - 2s 59ms/step\n",
      "25/25 [==============================] - 1s 22ms/step\n",
      "25/25 [==============================] - 1s 57ms/step\n",
      "25/25 [==============================] - 1s 53ms/step\n",
      "25/25 [==============================] - 1s 53ms/step\n",
      "25/25 [==============================] - 1s 54ms/step\n"
     ]
    },
    {
     "name": "stderr",
     "output_type": "stream",
     "text": [
      " 62%|██████████████████████████████████████████████████████████████████████████████████████████████████████████▋                                                                  | 95/154 [27:34<2:15:30, 137.81s/it]"
     ]
    },
    {
     "name": "stdout",
     "output_type": "stream",
     "text": [
      "25/25 [==============================] - 328s 14s/step\n",
      "25/25 [==============================] - 2s 72ms/step\n",
      "25/25 [==============================] - 2s 62ms/step\n",
      "25/25 [==============================] - 1s 21ms/step\n",
      "25/25 [==============================] - 1s 55ms/step\n",
      "25/25 [==============================] - 1s 56ms/step\n",
      "25/25 [==============================] - 908s 38s/step\n",
      "25/25 [==============================] - 2s 60ms/step\n"
     ]
    },
    {
     "name": "stderr",
     "output_type": "stream",
     "text": [
      " 62%|███████████████████████████████████████████████████████████████████████████████████████████████████████████▊                                                                 | 96/154 [48:20<7:34:30, 470.18s/it]"
     ]
    },
    {
     "name": "stdout",
     "output_type": "stream",
     "text": [
      "25/25 [==============================] - 1s 45ms/step\n",
      "25/25 [==============================] - 1s 47ms/step\n",
      "25/25 [==============================] - 1078s 45s/step\n",
      "25/25 [==============================] - 1s 34ms/step\n",
      "25/25 [==============================] - 2s 60ms/step\n",
      "25/25 [==============================] - 1s 52ms/step\n",
      "25/25 [==============================] - 1s 52ms/step\n",
      "25/25 [==============================] - 2s 60ms/step\n"
     ]
    },
    {
     "name": "stderr",
     "output_type": "stream",
     "text": [
      " 63%|███████████████████████████████████████████████████████████████████████████████████████████████████████████                                                               | 97/154 [1:21:56<14:47:10, 933.87s/it]"
     ]
    },
    {
     "name": "stdout",
     "output_type": "stream",
     "text": [
      "25/25 [==============================] - 1s 49ms/step\n",
      "25/25 [==============================] - 1s 48ms/step\n",
      "25/25 [==============================] - 1079s 45s/step\n",
      "25/25 [==============================] - 1s 25ms/step\n",
      "25/25 [==============================] - 1s 59ms/step\n",
      "25/25 [==============================] - 1s 56ms/step\n",
      "25/25 [==============================] - 1s 53ms/step\n",
      "25/25 [==============================] - 1s 45ms/step\n"
     ]
    },
    {
     "name": "stderr",
     "output_type": "stream",
     "text": [
      " 64%|████████████████████████████████████████████████████████████████████████████████████████████████████████████▏                                                             | 98/154 [1:40:05<15:14:55, 980.28s/it]"
     ]
    },
    {
     "name": "stdout",
     "output_type": "stream",
     "text": [
      "25/25 [==============================] - 2s 60ms/step\n",
      "25/25 [==============================] - 1s 55ms/step\n",
      "25/25 [==============================] - 1s 54ms/step\n",
      "25/25 [==============================] - 1s 20ms/step\n",
      "25/25 [==============================] - 1s 52ms/step\n",
      "25/25 [==============================] - 1s 52ms/step\n",
      "25/25 [==============================] - 1s 51ms/step\n",
      "25/25 [==============================] - 902s 38s/step\n"
     ]
    },
    {
     "name": "stderr",
     "output_type": "stream",
     "text": [
      " 64%|████████████████████████████████████████████████████████████████████████████████████████████████████████████▋                                                            | 99/154 [2:12:08<19:17:58, 1263.25s/it]"
     ]
    },
    {
     "name": "stdout",
     "output_type": "stream",
     "text": [
      "25/25 [==============================] - 1s 48ms/step\n",
      "25/25 [==============================] - 1s 48ms/step\n",
      "25/25 [==============================] - 1s 52ms/step\n",
      "25/25 [==============================] - 1s 20ms/step\n",
      "25/25 [==============================] - 1s 52ms/step\n",
      "25/25 [==============================] - 943s 39s/step\n",
      "25/25 [==============================] - 2s 68ms/step\n",
      "25/25 [==============================] - 1s 45ms/step\n"
     ]
    },
    {
     "name": "stderr",
     "output_type": "stream",
     "text": [
      " 65%|█████████████████████████████████████████████████████████████████████████████████████████████████████████████                                                           | 100/154 [2:28:01<17:33:00, 1170.01s/it]"
     ]
    },
    {
     "name": "stdout",
     "output_type": "stream",
     "text": [
      "25/25 [==============================] - 1s 44ms/step\n",
      "25/25 [==============================] - 1s 47ms/step\n",
      "25/25 [==============================] - 1s 53ms/step\n",
      "25/25 [==============================] - 1s 20ms/step\n",
      "25/25 [==============================] - 970s 40s/step\n",
      "25/25 [==============================] - 2s 60ms/step\n",
      "25/25 [==============================] - 1s 58ms/step\n",
      "25/25 [==============================] - 1s 45ms/step\n"
     ]
    },
    {
     "name": "stderr",
     "output_type": "stream",
     "text": [
      " 66%|██████████████████████████████████████████████████████████████████████████████████████████████████████████████▏                                                         | 101/154 [2:44:19<16:22:45, 1112.56s/it]"
     ]
    },
    {
     "name": "stdout",
     "output_type": "stream",
     "text": [
      "25/25 [==============================] - 1s 44ms/step\n",
      "25/25 [==============================] - 1s 48ms/step\n",
      "25/25 [==============================] - 1024s 43s/step\n",
      "25/25 [==============================] - 1s 28ms/step\n",
      "25/25 [==============================] - 2s 59ms/step\n",
      "25/25 [==============================] - 1s 54ms/step\n",
      "25/25 [==============================] - 2s 92ms/step\n",
      "25/25 [==============================] - 982s 41s/step\n"
     ]
    },
    {
     "name": "stderr",
     "output_type": "stream",
     "text": [
      " 66%|███████████████████████████████████████████████████████████████████████████████████████████████████████████████▎                                                        | 102/154 [3:17:54<19:58:49, 1383.27s/it]"
     ]
    },
    {
     "name": "stdout",
     "output_type": "stream",
     "text": [
      "25/25 [==============================] - 5s 203ms/step\n",
      "25/25 [==============================] - 6s 233ms/step\n",
      "25/25 [==============================] - 920s 364ms/step\n",
      "25/25 [==============================] - 3s 104ms/step\n",
      "25/25 [==============================] - 165s 7s/step\n",
      "25/25 [==============================] - 994s 41s/step\n",
      "25/25 [==============================] - 6s 235ms/step\n",
      "25/25 [==============================] - 2127s 89s/step\n"
     ]
    },
    {
     "name": "stderr",
     "output_type": "stream",
     "text": [
      " 67%|████████████████████████████████████████████████████████████████████████████████████████████████████████████████▎                                                       | 103/154 [4:28:20<31:40:37, 2236.02s/it]"
     ]
    },
    {
     "name": "stdout",
     "output_type": "stream",
     "text": [
      "25/25 [==============================] - 6s 225ms/step\n",
      "25/25 [==============================] - 1045s 44s/step\n",
      "25/25 [==============================] - 952s 40s/step\n",
      "25/25 [==============================] - 4s 151ms/step\n",
      "25/25 [==============================] - 1071s 45s/step\n",
      "25/25 [==============================] - 6s 244ms/step\n",
      "25/25 [==============================] - 1913s 80s/step\n",
      "25/25 [==============================] - 6s 228ms/step\n"
     ]
    },
    {
     "name": "stderr",
     "output_type": "stream",
     "text": [
      " 68%|█████████████████████████████████████████████████████████████████████████████████████████████████████████████████▍                                                      | 104/154 [5:51:44<42:35:18, 3066.38s/it]"
     ]
    },
    {
     "name": "stdout",
     "output_type": "stream",
     "text": [
      "25/25 [==============================] - 1075s 45s/step\n",
      "25/25 [==============================] - 6s 241ms/step\n",
      "25/25 [==============================] - 1007s 42s/step\n",
      "25/25 [==============================] - 2s 85ms/step\n",
      "25/25 [==============================] - 2115s 45s/step\n",
      "25/25 [==============================] - 916s 38s/step\n",
      "25/25 [==============================] - 1044s 43s/step\n",
      "25/25 [==============================] - 6s 223ms/step\n"
     ]
    },
    {
     "name": "stderr",
     "output_type": "stream",
     "text": [
      " 68%|██████████████████████████████████████████████████████████████████████████████████████████████████████████████████▌                                                     | 105/154 [7:51:29<58:33:18, 4302.01s/it]"
     ]
    },
    {
     "name": "stdout",
     "output_type": "stream",
     "text": [
      "25/25 [==============================] - 6s 252ms/step\n",
      "25/25 [==============================] - 1083s 45s/step\n",
      "25/25 [==============================] - 1062s 44s/step\n",
      "25/25 [==============================] - 2s 94ms/step\n",
      "25/25 [==============================] - 2098s 87s/step\n",
      "25/25 [==============================] - 1000s 42s/step\n",
      "25/25 [==============================] - 949s 40s/step\n",
      "25/25 [==============================] - 5s 214ms/step\n"
     ]
    },
    {
     "name": "stderr",
     "output_type": "stream",
     "text": [
      " 69%|███████████████████████████████████████████████████████████████████████████████████████████████████████████████████▋                                                    | 106/154 [9:51:42<69:00:23, 5175.48s/it]"
     ]
    },
    {
     "name": "stdout",
     "output_type": "stream",
     "text": [
      "25/25 [==============================] - 7s 280ms/step\n",
      "25/25 [==============================] - 8s 315ms/step\n",
      "25/25 [==============================] - 930s 39s/step\n",
      "25/25 [==============================] - 4s 144ms/step\n",
      "25/25 [==============================] - 6s 242ms/step\n",
      "25/25 [==============================] - 6s 229ms/step\n",
      "25/25 [==============================] - 32s 1s/step\n",
      "25/25 [==============================] - 6s 252ms/step\n"
     ]
    },
    {
     "name": "stderr",
     "output_type": "stream",
     "text": [
      " 69%|████████████████████████████████████████████████████████████████████████████████████████████████████████████████████                                                   | 107/154 [10:13:34<52:26:04, 4016.27s/it]"
     ]
    },
    {
     "name": "stdout",
     "output_type": "stream",
     "text": [
      "25/25 [==============================] - 992s 41s/step\n",
      "25/25 [==============================] - 1836s 38s/step\n",
      "25/25 [==============================] - 786s 33s/step\n",
      "25/25 [==============================] - 2s 87ms/step\n",
      "25/25 [==============================] - 967s 40s/step\n",
      "25/25 [==============================] - 21870s 911s/step\n",
      "25/25 [==============================] - 11s 433ms/step\n",
      "25/25 [==============================] - 10s 406ms/step\n"
     ]
    },
    {
     "name": "stderr",
     "output_type": "stream",
     "text": [
      " 70%|███████████████████████████████████████████████████████████████████████████████████████████████████████████████████▋                                                 | 108/154 [17:34:54<137:25:44, 10755.31s/it]"
     ]
    },
    {
     "name": "stdout",
     "output_type": "stream",
     "text": [
      "25/25 [==============================] - 8s 326ms/step\n",
      "25/25 [==============================] - 11s 444ms/step\n",
      "25/25 [==============================] - 8s 313ms/step\n",
      "25/25 [==============================] - 3s 113ms/step\n",
      "25/25 [==============================] - 8s 336ms/step\n",
      "25/25 [==============================] - 7s 278ms/step\n",
      "25/25 [==============================] - 7s 285ms/step\n",
      "25/25 [==============================] - 7s 272ms/step\n"
     ]
    },
    {
     "name": "stderr",
     "output_type": "stream",
     "text": [
      " 71%|██████████████████████████████████████████████████████████████████████████████████████████████████████████████████████▏                                                | 109/154 [17:35:56<94:20:30, 7547.34s/it]"
     ]
    },
    {
     "name": "stdout",
     "output_type": "stream",
     "text": [
      "25/25 [==============================] - 6s 246ms/step\n",
      "25/25 [==============================] - 7s 280ms/step\n",
      "25/25 [==============================] - 7s 270ms/step\n",
      "25/25 [==============================] - 2s 93ms/step\n",
      "25/25 [==============================] - 7s 268ms/step\n",
      "25/25 [==============================] - 6s 238ms/step\n",
      "25/25 [==============================] - 5s 196ms/step\n",
      "25/25 [==============================] - 4s 165ms/step\n"
     ]
    },
    {
     "name": "stderr",
     "output_type": "stream",
     "text": [
      " 71%|███████████████████████████████████████████████████████████████████████████████████████████████████████████████████████▎                                               | 110/154 [17:36:42<64:44:30, 5297.07s/it]"
     ]
    },
    {
     "name": "stdout",
     "output_type": "stream",
     "text": [
      "25/25 [==============================] - 4s 153ms/step\n",
      "25/25 [==============================] - 5s 185ms/step\n",
      "25/25 [==============================] - 5s 219ms/step\n",
      "25/25 [==============================] - 2s 78ms/step\n",
      "25/25 [==============================] - 5s 212ms/step\n",
      "25/25 [==============================] - 6s 262ms/step\n",
      "25/25 [==============================] - 5s 182ms/step\n",
      "25/25 [==============================] - 4s 147ms/step\n"
     ]
    },
    {
     "name": "stderr",
     "output_type": "stream",
     "text": [
      " 72%|████████████████████████████████████████████████████████████████████████████████████████████████████████████████████████▎                                              | 111/154 [17:37:19<44:25:21, 3719.10s/it]"
     ]
    },
    {
     "name": "stdout",
     "output_type": "stream",
     "text": [
      "25/25 [==============================] - 117s 5s/step\n",
      "25/25 [==============================] - 4s 163ms/step\n",
      "25/25 [==============================] - 8s 339ms/step\n",
      "25/25 [==============================] - 2s 85ms/step\n",
      "25/25 [==============================] - 5s 201ms/step\n",
      "25/25 [==============================] - 4s 165ms/step\n",
      "25/25 [==============================] - 4s 169ms/step\n",
      "25/25 [==============================] - 4s 161ms/step\n"
     ]
    },
    {
     "name": "stderr",
     "output_type": "stream",
     "text": [
      " 73%|█████████████████████████████████████████████████████████████████████████████████████████████████████████████████████████▍                                             | 112/154 [17:39:50<30:54:05, 2648.70s/it]"
     ]
    },
    {
     "name": "stdout",
     "output_type": "stream",
     "text": [
      "25/25 [==============================] - 4s 148ms/step\n",
      "25/25 [==============================] - 5s 186ms/step\n",
      "25/25 [==============================] - 4s 171ms/step\n",
      "25/25 [==============================] - 2s 62ms/step\n",
      "25/25 [==============================] - 5s 194ms/step\n",
      "25/25 [==============================] - 4s 174ms/step\n",
      "25/25 [==============================] - 4s 169ms/step\n",
      "25/25 [==============================] - 4s 161ms/step\n"
     ]
    },
    {
     "name": "stderr",
     "output_type": "stream",
     "text": [
      " 73%|██████████████████████████████████████████████████████████████████████████████████████████████████████████████████████████▌                                            | 113/154 [17:40:23<21:13:41, 1863.93s/it]"
     ]
    },
    {
     "name": "stdout",
     "output_type": "stream",
     "text": [
      "25/25 [==============================] - 4s 155ms/step\n",
      "25/25 [==============================] - 4s 154ms/step\n",
      "25/25 [==============================] - 4s 172ms/step\n",
      "25/25 [==============================] - 2s 60ms/step\n",
      "25/25 [==============================] - 4s 173ms/step\n",
      "25/25 [==============================] - 4s 168ms/step\n",
      "25/25 [==============================] - 4s 167ms/step\n",
      "25/25 [==============================] - 4s 146ms/step\n"
     ]
    },
    {
     "name": "stderr",
     "output_type": "stream",
     "text": [
      " 74%|███████████████████████████████████████████████████████████████████████████████████████████████████████████████████████████▌                                           | 114/154 [17:40:54<14:36:02, 1314.07s/it]"
     ]
    },
    {
     "name": "stdout",
     "output_type": "stream",
     "text": [
      "25/25 [==============================] - 4s 161ms/step\n",
      "25/25 [==============================] - 4s 172ms/step\n",
      "25/25 [==============================] - 5s 181ms/step\n",
      "25/25 [==============================] - 1s 59ms/step\n",
      "25/25 [==============================] - 4s 168ms/step\n",
      "25/25 [==============================] - 4s 164ms/step\n",
      "25/25 [==============================] - 4s 173ms/step\n",
      "25/25 [==============================] - 4s 144ms/step\n"
     ]
    },
    {
     "name": "stderr",
     "output_type": "stream",
     "text": [
      " 75%|█████████████████████████████████████████████████████████████████████████████████████████████████████████████████████████████▍                                          | 115/154 [17:41:26<10:04:06, 929.39s/it]"
     ]
    },
    {
     "name": "stdout",
     "output_type": "stream",
     "text": [
      "25/25 [==============================] - 4s 152ms/step\n",
      "25/25 [==============================] - 4s 165ms/step\n",
      "25/25 [==============================] - 4s 167ms/step\n",
      "25/25 [==============================] - 2s 61ms/step\n",
      "25/25 [==============================] - 5s 181ms/step\n",
      "25/25 [==============================] - 4s 160ms/step\n",
      "25/25 [==============================] - 4s 158ms/step\n",
      "25/25 [==============================] - 3s 138ms/step\n"
     ]
    },
    {
     "name": "stderr",
     "output_type": "stream",
     "text": [
      " 75%|███████████████████████████████████████████████████████████████████████████████████████████████████████████████████████████████▎                                         | 116/154 [17:41:57<6:57:52, 659.80s/it]"
     ]
    },
    {
     "name": "stdout",
     "output_type": "stream",
     "text": [
      "25/25 [==============================] - 3s 132ms/step\n",
      "25/25 [==============================] - 4s 149ms/step\n",
      "25/25 [==============================] - 5s 200ms/step\n",
      "25/25 [==============================] - 2s 67ms/step\n",
      "25/25 [==============================] - 5s 194ms/step\n",
      "25/25 [==============================] - 5s 191ms/step\n",
      "25/25 [==============================] - 5s 184ms/step\n",
      "25/25 [==============================] - 4s 147ms/step\n"
     ]
    },
    {
     "name": "stderr",
     "output_type": "stream",
     "text": [
      " 76%|████████████████████████████████████████████████████████████████████████████████████████████████████████████████████████████████▍                                        | 117/154 [17:42:29<4:50:51, 471.67s/it]"
     ]
    },
    {
     "name": "stdout",
     "output_type": "stream",
     "text": [
      "25/25 [==============================] - 2s 76ms/step\n",
      "25/25 [==============================] - 1s 47ms/step\n",
      "25/25 [==============================] - 1s 52ms/step\n",
      "25/25 [==============================] - 1s 21ms/step\n",
      "25/25 [==============================] - 1s 52ms/step\n",
      "25/25 [==============================] - 1s 57ms/step\n",
      "25/25 [==============================] - 1s 56ms/step\n",
      "25/25 [==============================] - 1s 47ms/step\n"
     ]
    },
    {
     "name": "stderr",
     "output_type": "stream",
     "text": [
      " 77%|█████████████████████████████████████████████████████████████████████████████████████████████████████████████████████████████████▍                                       | 118/154 [17:42:41<3:20:06, 333.50s/it]"
     ]
    },
    {
     "name": "stdout",
     "output_type": "stream",
     "text": [
      "25/25 [==============================] - 1s 47ms/step\n",
      "25/25 [==============================] - 1s 51ms/step\n",
      "25/25 [==============================] - 1s 58ms/step\n",
      "25/25 [==============================] - 1s 23ms/step\n",
      "25/25 [==============================] - 1s 57ms/step\n",
      "25/25 [==============================] - 2s 69ms/step\n",
      "25/25 [==============================] - 1s 54ms/step\n",
      "25/25 [==============================] - 4s 179ms/step\n"
     ]
    },
    {
     "name": "stderr",
     "output_type": "stream",
     "text": [
      " 77%|██████████████████████████████████████████████████████████████████████████████████████████████████████████████████████████████████▌                                      | 119/154 [17:42:55<2:18:38, 237.68s/it]"
     ]
    },
    {
     "name": "stdout",
     "output_type": "stream",
     "text": [
      "25/25 [==============================] - 3s 98ms/step\n",
      "25/25 [==============================] - 2s 87ms/step\n",
      "25/25 [==============================] - 2s 71ms/step\n",
      "25/25 [==============================] - 1s 32ms/step\n",
      "25/25 [==============================] - 2s 80ms/step\n",
      "25/25 [==============================] - 2s 63ms/step\n",
      "25/25 [==============================] - 2s 61ms/step\n",
      "25/25 [==============================] - 1s 52ms/step\n"
     ]
    },
    {
     "name": "stderr",
     "output_type": "stream",
     "text": [
      " 78%|███████████████████████████████████████████████████████████████████████████████████████████████████████████████████████████████████▋                                     | 120/154 [17:43:10<1:36:50, 170.90s/it]"
     ]
    },
    {
     "name": "stdout",
     "output_type": "stream",
     "text": [
      "25/25 [==============================] - 1s 48ms/step\n",
      "25/25 [==============================] - 1s 54ms/step\n",
      "25/25 [==============================] - 1s 59ms/step\n",
      "25/25 [==============================] - 1s 23ms/step\n",
      "25/25 [==============================] - 1s 60ms/step\n",
      "25/25 [==============================] - 2s 60ms/step\n",
      "25/25 [==============================] - 1s 58ms/step\n",
      "25/25 [==============================] - 5s 197ms/step\n"
     ]
    },
    {
     "name": "stderr",
     "output_type": "stream",
     "text": [
      " 79%|████████████████████████████████████████████████████████████████████████████████████████████████████████████████████████████████████▊                                    | 121/154 [17:43:24<1:08:12, 124.00s/it]"
     ]
    },
    {
     "name": "stdout",
     "output_type": "stream",
     "text": [
      "25/25 [==============================] - 3s 122ms/step\n",
      "25/25 [==============================] - 2s 95ms/step\n",
      "25/25 [==============================] - 2s 61ms/step\n",
      "25/25 [==============================] - 1s 23ms/step\n",
      "25/25 [==============================] - 1s 59ms/step\n",
      "25/25 [==============================] - 1s 59ms/step\n",
      "25/25 [==============================] - 1s 56ms/step\n",
      "25/25 [==============================] - 1s 48ms/step\n"
     ]
    },
    {
     "name": "stderr",
     "output_type": "stream",
     "text": [
      " 79%|████████████████████████████████████████████████████████████████████████████████████████████████████████████████████████████████████████▎                                   | 122/154 [17:43:38<48:33, 91.03s/it]"
     ]
    },
    {
     "name": "stdout",
     "output_type": "stream",
     "text": [
      "25/25 [==============================] - 1s 46ms/step\n",
      "25/25 [==============================] - 1s 54ms/step\n",
      "25/25 [==============================] - 2s 60ms/step\n",
      "25/25 [==============================] - 1s 21ms/step\n",
      "25/25 [==============================] - 1s 55ms/step\n",
      "25/25 [==============================] - 1s 60ms/step\n",
      "25/25 [==============================] - 1s 57ms/step\n",
      "25/25 [==============================] - 1s 49ms/step\n"
     ]
    },
    {
     "name": "stderr",
     "output_type": "stream",
     "text": [
      " 80%|█████████████████████████████████████████████████████████████████████████████████████████████████████████████████████████████████████████▍                                  | 123/154 [17:43:49<34:35, 66.96s/it]"
     ]
    },
    {
     "name": "stdout",
     "output_type": "stream",
     "text": [
      "25/25 [==============================] - 1s 47ms/step\n",
      "25/25 [==============================] - 1s 55ms/step\n",
      "25/25 [==============================] - 2s 60ms/step\n",
      "25/25 [==============================] - 1s 22ms/step\n",
      "25/25 [==============================] - 1s 56ms/step\n",
      "25/25 [==============================] - 1s 57ms/step\n",
      "25/25 [==============================] - 1s 55ms/step\n",
      "25/25 [==============================] - 1s 47ms/step\n"
     ]
    },
    {
     "name": "stderr",
     "output_type": "stream",
     "text": [
      " 81%|██████████████████████████████████████████████████████████████████████████████████████████████████████████████████████████████████████████▍                                 | 124/154 [17:44:00<25:02, 50.08s/it]"
     ]
    },
    {
     "name": "stdout",
     "output_type": "stream",
     "text": [
      "25/25 [==============================] - 1s 47ms/step\n",
      "25/25 [==============================] - 1s 53ms/step\n",
      "25/25 [==============================] - 1s 55ms/step\n",
      "25/25 [==============================] - 1s 22ms/step\n",
      "25/25 [==============================] - 1s 56ms/step\n",
      "25/25 [==============================] - 1s 58ms/step\n",
      "25/25 [==============================] - 1s 54ms/step\n",
      "25/25 [==============================] - 1s 48ms/step\n"
     ]
    },
    {
     "name": "stderr",
     "output_type": "stream",
     "text": [
      " 81%|███████████████████████████████████████████████████████████████████████████████████████████████████████████████████████████████████████████▌                                | 125/154 [17:44:10<18:28, 38.22s/it]"
     ]
    },
    {
     "name": "stdout",
     "output_type": "stream",
     "text": [
      "25/25 [==============================] - 1s 46ms/step\n",
      "25/25 [==============================] - 1s 54ms/step\n",
      "25/25 [==============================] - 1s 56ms/step\n",
      "25/25 [==============================] - 1s 22ms/step\n",
      "25/25 [==============================] - 1s 57ms/step\n",
      "25/25 [==============================] - 1s 57ms/step\n",
      "25/25 [==============================] - 1s 57ms/step\n",
      "25/25 [==============================] - 1s 47ms/step\n"
     ]
    },
    {
     "name": "stderr",
     "output_type": "stream",
     "text": [
      " 82%|████████████████████████████████████████████████████████████████████████████████████████████████████████████████████████████████████████████▋                               | 126/154 [17:44:21<13:58, 29.94s/it]"
     ]
    },
    {
     "name": "stdout",
     "output_type": "stream",
     "text": [
      "25/25 [==============================] - 1s 45ms/step\n",
      "25/25 [==============================] - 1s 53ms/step\n",
      "25/25 [==============================] - 1s 58ms/step\n",
      "25/25 [==============================] - 1s 22ms/step\n",
      "25/25 [==============================] - 1s 56ms/step\n",
      "25/25 [==============================] - 1s 58ms/step\n",
      "25/25 [==============================] - 2s 60ms/step\n",
      "25/25 [==============================] - 1s 52ms/step\n"
     ]
    },
    {
     "name": "stderr",
     "output_type": "stream",
     "text": [
      " 82%|█████████████████████████████████████████████████████████████████████████████████████████████████████████████████████████████████████████████▊                              | 127/154 [17:44:32<10:53, 24.21s/it]"
     ]
    },
    {
     "name": "stdout",
     "output_type": "stream",
     "text": [
      "25/25 [==============================] - 1s 51ms/step\n",
      "25/25 [==============================] - 1s 57ms/step\n",
      "25/25 [==============================] - 1s 55ms/step\n",
      "25/25 [==============================] - 1s 21ms/step\n",
      "25/25 [==============================] - 1s 54ms/step\n",
      "25/25 [==============================] - 1s 57ms/step\n",
      "25/25 [==============================] - 1s 54ms/step\n",
      "25/25 [==============================] - 1s 46ms/step\n"
     ]
    },
    {
     "name": "stderr",
     "output_type": "stream",
     "text": [
      " 83%|██████████████████████████████████████████████████████████████████████████████████████████████████████████████████████████████████████████████▉                             | 128/154 [17:44:42<08:43, 20.12s/it]"
     ]
    },
    {
     "name": "stdout",
     "output_type": "stream",
     "text": [
      "25/25 [==============================] - 1s 46ms/step\n",
      "25/25 [==============================] - 1s 53ms/step\n",
      "25/25 [==============================] - 1s 59ms/step\n",
      "25/25 [==============================] - 1s 24ms/step\n",
      "25/25 [==============================] - 1s 55ms/step\n",
      "25/25 [==============================] - 1s 57ms/step\n",
      "25/25 [==============================] - 1s 55ms/step\n",
      "25/25 [==============================] - 1s 46ms/step\n"
     ]
    },
    {
     "name": "stderr",
     "output_type": "stream",
     "text": [
      " 84%|████████████████████████████████████████████████████████████████████████████████████████████████████████████████████████████████████████████████                            | 129/154 [17:44:53<07:11, 17.25s/it]"
     ]
    },
    {
     "name": "stdout",
     "output_type": "stream",
     "text": [
      "25/25 [==============================] - 1s 47ms/step\n",
      "25/25 [==============================] - 1s 54ms/step\n",
      "25/25 [==============================] - 1s 57ms/step\n",
      "25/25 [==============================] - 1s 22ms/step\n",
      "25/25 [==============================] - 1s 55ms/step\n",
      "25/25 [==============================] - 1s 57ms/step\n",
      "25/25 [==============================] - 1s 55ms/step\n",
      "25/25 [==============================] - 1s 47ms/step\n"
     ]
    },
    {
     "name": "stderr",
     "output_type": "stream",
     "text": [
      " 84%|█████████████████████████████████████████████████████████████████████████████████████████████████████████████████████████████████████████████████▏                          | 130/154 [17:45:04<06:06, 15.25s/it]"
     ]
    },
    {
     "name": "stdout",
     "output_type": "stream",
     "text": [
      "25/25 [==============================] - 1s 46ms/step\n",
      "25/25 [==============================] - 1s 54ms/step\n",
      "25/25 [==============================] - 1s 54ms/step\n",
      "25/25 [==============================] - 1s 22ms/step\n",
      "25/25 [==============================] - 1s 55ms/step\n",
      "25/25 [==============================] - 1s 57ms/step\n",
      "25/25 [==============================] - 1s 57ms/step\n",
      "25/25 [==============================] - 1s 49ms/step\n"
     ]
    },
    {
     "name": "stderr",
     "output_type": "stream",
     "text": [
      " 85%|██████████████████████████████████████████████████████████████████████████████████████████████████████████████████████████████████████████████████▎                         | 131/154 [17:45:14<05:18, 13.83s/it]"
     ]
    },
    {
     "name": "stdout",
     "output_type": "stream",
     "text": [
      "25/25 [==============================] - 1s 47ms/step\n",
      "25/25 [==============================] - 1s 53ms/step\n",
      "25/25 [==============================] - 1s 55ms/step\n",
      "25/25 [==============================] - 1s 21ms/step\n",
      "25/25 [==============================] - 1s 56ms/step\n",
      "25/25 [==============================] - 2s 61ms/step\n",
      "25/25 [==============================] - 1s 59ms/step\n",
      "25/25 [==============================] - 1s 47ms/step\n"
     ]
    },
    {
     "name": "stderr",
     "output_type": "stream",
     "text": [
      " 86%|███████████████████████████████████████████████████████████████████████████████████████████████████████████████████████████████████████████████████▍                        | 132/154 [17:45:25<04:43, 12.89s/it]"
     ]
    },
    {
     "name": "stdout",
     "output_type": "stream",
     "text": [
      "25/25 [==============================] - 1s 46ms/step\n",
      "25/25 [==============================] - 1s 53ms/step\n",
      "25/25 [==============================] - 1s 54ms/step\n",
      "25/25 [==============================] - 1s 21ms/step\n",
      "25/25 [==============================] - 1s 55ms/step\n",
      "25/25 [==============================] - 1s 57ms/step\n",
      "25/25 [==============================] - 1s 54ms/step\n",
      "25/25 [==============================] - 1s 47ms/step\n"
     ]
    },
    {
     "name": "stderr",
     "output_type": "stream",
     "text": [
      " 86%|████████████████████████████████████████████████████████████████████████████████████████████████████████████████████████████████████████████████████▌                       | 133/154 [17:45:35<04:15, 12.14s/it]"
     ]
    },
    {
     "name": "stdout",
     "output_type": "stream",
     "text": [
      "25/25 [==============================] - 1s 46ms/step\n",
      "25/25 [==============================] - 1s 53ms/step\n",
      "25/25 [==============================] - 1s 54ms/step\n",
      "25/25 [==============================] - 1s 22ms/step\n",
      "25/25 [==============================] - 1s 55ms/step\n",
      "25/25 [==============================] - 1s 55ms/step\n",
      "25/25 [==============================] - 1s 56ms/step\n",
      "25/25 [==============================] - 1s 46ms/step\n"
     ]
    },
    {
     "name": "stderr",
     "output_type": "stream",
     "text": [
      " 87%|█████████████████████████████████████████████████████████████████████████████████████████████████████████████████████████████████████████████████████▋                      | 134/154 [17:45:46<03:52, 11.63s/it]"
     ]
    },
    {
     "name": "stdout",
     "output_type": "stream",
     "text": [
      "25/25 [==============================] - 1s 46ms/step\n",
      "25/25 [==============================] - 1s 52ms/step\n",
      "25/25 [==============================] - 1s 55ms/step\n",
      "25/25 [==============================] - 1s 22ms/step\n",
      "25/25 [==============================] - 1s 54ms/step\n",
      "25/25 [==============================] - 1s 54ms/step\n",
      "25/25 [==============================] - 1s 59ms/step\n",
      "25/25 [==============================] - 1s 47ms/step\n"
     ]
    },
    {
     "name": "stderr",
     "output_type": "stream",
     "text": [
      " 88%|██████████████████████████████████████████████████████████████████████████████████████████████████████████████████████████████████████████████████████▊                     | 135/154 [17:45:56<03:34, 11.27s/it]"
     ]
    },
    {
     "name": "stdout",
     "output_type": "stream",
     "text": [
      "25/25 [==============================] - 1s 47ms/step\n",
      "25/25 [==============================] - 1s 52ms/step\n",
      "25/25 [==============================] - 1s 58ms/step\n",
      "25/25 [==============================] - 1s 22ms/step\n",
      "25/25 [==============================] - 1s 57ms/step\n",
      "25/25 [==============================] - 1s 57ms/step\n",
      "25/25 [==============================] - 1s 58ms/step\n",
      "25/25 [==============================] - 1s 48ms/step\n"
     ]
    },
    {
     "name": "stderr",
     "output_type": "stream",
     "text": [
      " 88%|███████████████████████████████████████████████████████████████████████████████████████████████████████████████████████████████████████████████████████▉                    | 136/154 [17:46:07<03:19, 11.10s/it]"
     ]
    },
    {
     "name": "stdout",
     "output_type": "stream",
     "text": [
      "25/25 [==============================] - 1s 48ms/step\n",
      "25/25 [==============================] - 1s 55ms/step\n",
      "25/25 [==============================] - 1s 56ms/step\n",
      "25/25 [==============================] - 1s 22ms/step\n",
      "25/25 [==============================] - 1s 56ms/step\n",
      "25/25 [==============================] - 1s 59ms/step\n",
      "25/25 [==============================] - 2s 60ms/step\n",
      "25/25 [==============================] - 1s 49ms/step\n"
     ]
    },
    {
     "name": "stderr",
     "output_type": "stream",
     "text": [
      " 89%|█████████████████████████████████████████████████████████████████████████████████████████████████████████████████████████████████████████████████████████                   | 137/154 [17:46:18<03:07, 11.01s/it]"
     ]
    },
    {
     "name": "stdout",
     "output_type": "stream",
     "text": [
      "25/25 [==============================] - 1s 49ms/step\n",
      "25/25 [==============================] - 1s 56ms/step\n",
      "25/25 [==============================] - 1s 57ms/step\n",
      "25/25 [==============================] - 1s 22ms/step\n",
      "25/25 [==============================] - 1s 56ms/step\n",
      "25/25 [==============================] - 1s 58ms/step\n",
      "25/25 [==============================] - 1s 56ms/step\n",
      "25/25 [==============================] - 1s 46ms/step\n"
     ]
    },
    {
     "name": "stderr",
     "output_type": "stream",
     "text": [
      " 90%|██████████████████████████████████████████████████████████████████████████████████████████████████████████████████████████████████████████████████████████▏                 | 138/154 [17:46:28<02:54, 10.92s/it]"
     ]
    },
    {
     "name": "stdout",
     "output_type": "stream",
     "text": [
      "25/25 [==============================] - 1s 46ms/step\n",
      "25/25 [==============================] - 1s 54ms/step\n",
      "25/25 [==============================] - 1s 54ms/step\n",
      "25/25 [==============================] - 1s 22ms/step\n",
      "25/25 [==============================] - 1s 56ms/step\n",
      "25/25 [==============================] - 1s 57ms/step\n",
      "25/25 [==============================] - 1s 55ms/step\n",
      "25/25 [==============================] - 1s 47ms/step\n"
     ]
    },
    {
     "name": "stderr",
     "output_type": "stream",
     "text": [
      " 90%|███████████████████████████████████████████████████████████████████████████████████████████████████████████████████████████████████████████████████████████▏                | 139/154 [17:46:39<02:41, 10.79s/it]"
     ]
    },
    {
     "name": "stdout",
     "output_type": "stream",
     "text": [
      "25/25 [==============================] - 1s 46ms/step\n",
      "25/25 [==============================] - 1s 52ms/step\n",
      "25/25 [==============================] - 1s 54ms/step\n",
      "25/25 [==============================] - 1s 22ms/step\n",
      "25/25 [==============================] - 1s 55ms/step\n",
      "25/25 [==============================] - 1s 56ms/step\n",
      "25/25 [==============================] - 1s 56ms/step\n",
      "25/25 [==============================] - 1s 47ms/step\n"
     ]
    },
    {
     "name": "stderr",
     "output_type": "stream",
     "text": [
      " 91%|████████████████████████████████████████████████████████████████████████████████████████████████████████████████████████████████████████████████████████████▎               | 140/154 [17:46:49<02:29, 10.68s/it]"
     ]
    },
    {
     "name": "stdout",
     "output_type": "stream",
     "text": [
      "25/25 [==============================] - 1s 46ms/step\n",
      "25/25 [==============================] - 1s 52ms/step\n",
      "25/25 [==============================] - 1s 55ms/step\n",
      "25/25 [==============================] - 1s 22ms/step\n",
      "25/25 [==============================] - 1s 55ms/step\n",
      "25/25 [==============================] - 1s 55ms/step\n",
      "25/25 [==============================] - 1s 57ms/step\n",
      "25/25 [==============================] - 1s 47ms/step\n"
     ]
    },
    {
     "name": "stderr",
     "output_type": "stream",
     "text": [
      " 92%|█████████████████████████████████████████████████████████████████████████████████████████████████████████████████████████████████████████████████████████████▍              | 141/154 [17:47:00<02:17, 10.60s/it]"
     ]
    },
    {
     "name": "stdout",
     "output_type": "stream",
     "text": [
      "25/25 [==============================] - 1s 47ms/step\n",
      "25/25 [==============================] - 1s 51ms/step\n",
      "25/25 [==============================] - 1s 56ms/step\n",
      "25/25 [==============================] - 1s 26ms/step\n",
      "25/25 [==============================] - 1s 57ms/step\n",
      "25/25 [==============================] - 1s 55ms/step\n",
      "25/25 [==============================] - 1s 57ms/step\n",
      "25/25 [==============================] - 1s 47ms/step\n"
     ]
    },
    {
     "name": "stderr",
     "output_type": "stream",
     "text": [
      " 92%|██████████████████████████████████████████████████████████████████████████████████████████████████████████████████████████████████████████████████████████████▌             | 142/154 [17:47:10<02:07, 10.61s/it]"
     ]
    },
    {
     "name": "stdout",
     "output_type": "stream",
     "text": [
      "25/25 [==============================] - 1s 47ms/step\n",
      "25/25 [==============================] - 1s 51ms/step\n",
      "25/25 [==============================] - 1s 59ms/step\n",
      "25/25 [==============================] - 1s 22ms/step\n",
      "25/25 [==============================] - 1s 55ms/step\n",
      "25/25 [==============================] - 2s 61ms/step\n",
      "25/25 [==============================] - 2s 63ms/step\n",
      "25/25 [==============================] - 1s 52ms/step\n"
     ]
    },
    {
     "name": "stderr",
     "output_type": "stream",
     "text": [
      " 93%|███████████████████████████████████████████████████████████████████████████████████████████████████████████████████████████████████████████████████████████████▋            | 143/154 [17:47:21<01:58, 10.74s/it]"
     ]
    },
    {
     "name": "stdout",
     "output_type": "stream",
     "text": [
      "25/25 [==============================] - 1s 51ms/step\n",
      "25/25 [==============================] - 2s 66ms/step\n",
      "25/25 [==============================] - 2s 65ms/step\n",
      "25/25 [==============================] - 1s 24ms/step\n",
      "25/25 [==============================] - 2s 61ms/step\n",
      "25/25 [==============================] - 2s 64ms/step\n",
      "25/25 [==============================] - 2s 60ms/step\n",
      "25/25 [==============================] - 1s 52ms/step\n"
     ]
    },
    {
     "name": "stderr",
     "output_type": "stream",
     "text": [
      " 94%|████████████████████████████████████████████████████████████████████████████████████████████████████████████████████████████████████████████████████████████████▊           | 144/154 [17:47:33<01:50, 11.05s/it]"
     ]
    },
    {
     "name": "stdout",
     "output_type": "stream",
     "text": [
      "25/25 [==============================] - 1s 53ms/step\n",
      "25/25 [==============================] - 1s 55ms/step\n",
      "25/25 [==============================] - 2s 60ms/step\n",
      "25/25 [==============================] - 1s 23ms/step\n",
      "25/25 [==============================] - 2s 62ms/step\n",
      "25/25 [==============================] - 2s 60ms/step\n",
      "25/25 [==============================] - 1s 59ms/step\n",
      "25/25 [==============================] - 1s 52ms/step\n"
     ]
    },
    {
     "name": "stderr",
     "output_type": "stream",
     "text": [
      " 94%|█████████████████████████████████████████████████████████████████████████████████████████████████████████████████████████████████████████████████████████████████▉          | 145/154 [17:47:44<01:40, 11.14s/it]"
     ]
    },
    {
     "name": "stdout",
     "output_type": "stream",
     "text": [
      "25/25 [==============================] - 1s 55ms/step\n",
      "25/25 [==============================] - 1s 56ms/step\n",
      "25/25 [==============================] - 2s 61ms/step\n",
      "25/25 [==============================] - 1s 24ms/step\n",
      "25/25 [==============================] - 2s 65ms/step\n",
      "25/25 [==============================] - 1s 59ms/step\n",
      "25/25 [==============================] - 2s 63ms/step\n",
      "25/25 [==============================] - 1s 56ms/step\n"
     ]
    },
    {
     "name": "stderr",
     "output_type": "stream",
     "text": [
      " 95%|███████████████████████████████████████████████████████████████████████████████████████████████████████████████████████████████████████████████████████████████████         | 146/154 [17:47:56<01:30, 11.29s/it]"
     ]
    },
    {
     "name": "stdout",
     "output_type": "stream",
     "text": [
      "25/25 [==============================] - 1s 51ms/step\n",
      "25/25 [==============================] - 1s 55ms/step\n",
      "25/25 [==============================] - 2s 63ms/step\n",
      "25/25 [==============================] - 1s 24ms/step\n",
      "25/25 [==============================] - 1s 55ms/step\n",
      "25/25 [==============================] - 1s 55ms/step\n",
      "25/25 [==============================] - 1s 55ms/step\n",
      "25/25 [==============================] - 1s 50ms/step\n"
     ]
    },
    {
     "name": "stderr",
     "output_type": "stream",
     "text": [
      " 95%|████████████████████████████████████████████████████████████████████████████████████████████████████████████████████████████████████████████████████████████████████▏       | 147/154 [17:48:07<01:18, 11.18s/it]"
     ]
    },
    {
     "name": "stdout",
     "output_type": "stream",
     "text": [
      "25/25 [==============================] - 1s 46ms/step\n",
      "25/25 [==============================] - 1s 57ms/step\n",
      "25/25 [==============================] - 1s 56ms/step\n",
      "25/25 [==============================] - 1s 24ms/step\n",
      "25/25 [==============================] - 1s 55ms/step\n",
      "25/25 [==============================] - 1s 54ms/step\n",
      "25/25 [==============================] - 1s 55ms/step\n",
      "25/25 [==============================] - 1s 50ms/step\n"
     ]
    },
    {
     "name": "stderr",
     "output_type": "stream",
     "text": [
      " 96%|█████████████████████████████████████████████████████████████████████████████████████████████████████████████████████████████████████████████████████████████████████▎      | 148/154 [17:48:18<01:06, 11.03s/it]"
     ]
    },
    {
     "name": "stdout",
     "output_type": "stream",
     "text": [
      "25/25 [==============================] - 1s 48ms/step\n",
      "25/25 [==============================] - 1s 51ms/step\n",
      "25/25 [==============================] - 1s 55ms/step\n",
      "25/25 [==============================] - 1s 24ms/step\n",
      "25/25 [==============================] - 1s 55ms/step\n",
      "25/25 [==============================] - 1s 55ms/step\n",
      "25/25 [==============================] - 1s 55ms/step\n",
      "25/25 [==============================] - 1s 50ms/step\n"
     ]
    },
    {
     "name": "stderr",
     "output_type": "stream",
     "text": [
      " 97%|██████████████████████████████████████████████████████████████████████████████████████████████████████████████████████████████████████████████████████████████████████▍     | 149/154 [17:48:28<00:54, 10.87s/it]"
     ]
    },
    {
     "name": "stdout",
     "output_type": "stream",
     "text": [
      "25/25 [==============================] - 1s 46ms/step\n",
      "25/25 [==============================] - 1s 50ms/step\n",
      "25/25 [==============================] - 1s 54ms/step\n",
      "25/25 [==============================] - 1s 24ms/step\n",
      "25/25 [==============================] - 1s 57ms/step\n",
      "25/25 [==============================] - 1s 56ms/step\n",
      "25/25 [==============================] - 1s 54ms/step\n",
      "25/25 [==============================] - 1s 49ms/step\n"
     ]
    },
    {
     "name": "stderr",
     "output_type": "stream",
     "text": [
      " 97%|███████████████████████████████████████████████████████████████████████████████████████████████████████████████████████████████████████████████████████████████████████▌    | 150/154 [17:48:39<00:43, 10.76s/it]"
     ]
    },
    {
     "name": "stdout",
     "output_type": "stream",
     "text": [
      "25/25 [==============================] - 1s 47ms/step\n",
      "25/25 [==============================] - 1s 49ms/step\n",
      "25/25 [==============================] - 1s 54ms/step\n",
      "25/25 [==============================] - 1s 24ms/step\n",
      "25/25 [==============================] - 1s 56ms/step\n",
      "25/25 [==============================] - 1s 55ms/step\n",
      "25/25 [==============================] - 1s 55ms/step\n",
      "25/25 [==============================] - 1s 50ms/step\n"
     ]
    },
    {
     "name": "stderr",
     "output_type": "stream",
     "text": [
      " 98%|████████████████████████████████████████████████████████████████████████████████████████████████████████████████████████████████████████████████████████████████████████▋   | 151/154 [17:48:49<00:31, 10.66s/it]"
     ]
    },
    {
     "name": "stdout",
     "output_type": "stream",
     "text": [
      "25/25 [==============================] - 1s 47ms/step\n",
      "25/25 [==============================] - 1s 51ms/step\n",
      "25/25 [==============================] - 1s 55ms/step\n",
      "25/25 [==============================] - 1s 23ms/step\n",
      "25/25 [==============================] - 1s 57ms/step\n",
      "25/25 [==============================] - 1s 55ms/step\n",
      "25/25 [==============================] - 1s 55ms/step\n",
      "25/25 [==============================] - 1s 52ms/step\n"
     ]
    },
    {
     "name": "stderr",
     "output_type": "stream",
     "text": [
      " 99%|█████████████████████████████████████████████████████████████████████████████████████████████████████████████████████████████████████████████████████████████████████████▊  | 152/154 [17:49:00<00:21, 10.65s/it]"
     ]
    },
    {
     "name": "stdout",
     "output_type": "stream",
     "text": [
      "25/25 [==============================] - 1s 46ms/step\n",
      "25/25 [==============================] - 1s 51ms/step\n",
      "25/25 [==============================] - 1s 56ms/step\n",
      "25/25 [==============================] - 1s 23ms/step\n",
      "25/25 [==============================] - 1s 57ms/step\n",
      "25/25 [==============================] - 1s 56ms/step\n",
      "25/25 [==============================] - 1s 55ms/step\n",
      "25/25 [==============================] - 1s 50ms/step\n"
     ]
    },
    {
     "name": "stderr",
     "output_type": "stream",
     "text": [
      " 99%|██████████████████████████████████████████████████████████████████████████████████████████████████████████████████████████████████████████████████████████████████████████▉ | 153/154 [17:49:10<00:10, 10.64s/it]"
     ]
    },
    {
     "name": "stdout",
     "output_type": "stream",
     "text": [
      "25/25 [==============================] - 1s 48ms/step\n",
      "25/25 [==============================] - 1s 51ms/step\n",
      "25/25 [==============================] - 1s 57ms/step\n",
      "25/25 [==============================] - 1s 24ms/step\n",
      "25/25 [==============================] - 1s 58ms/step\n",
      "25/25 [==============================] - 1s 56ms/step\n",
      "25/25 [==============================] - 1s 57ms/step\n",
      "25/25 [==============================] - 1s 53ms/step\n"
     ]
    },
    {
     "name": "stderr",
     "output_type": "stream",
     "text": [
      "100%|███████████████████████████████████████████████████████████████████████████████████████████████████████████████████████████████████████████████████████████████████████████| 154/154 [17:49:21<00:00, 416.63s/it]\n"
     ]
    },
    {
     "name": "stdout",
     "output_type": "stream",
     "text": [
      "Predicting affinities.\n"
     ]
    },
    {
     "name": "stderr",
     "output_type": "stream",
     "text": [
      "  0%|                                                                                                                                          | 0/2 [00:00<?, ?it/s]/Users/iskander/code/shared-virtual-env/lib/python3.12/site-packages/mhcflurry/amino_acid.py:132: FutureWarning: Downcasting behavior in `replace` is deprecated and will be removed in a future version. To retain the old behavior, explicitly call `result.infer_objects(copy=False)`. To opt-in to the future behavior, set `pd.set_option('future.no_silent_downcasting', True)`\n",
      "  result = df.replace(letter_to_index_dict)\n"
     ]
    },
    {
     "name": "stdout",
     "output_type": "stream",
     "text": [
      "3743/3743 [==============================] - 916s 245ms/step\n"
     ]
    },
    {
     "name": "stderr",
     "output_type": "stream",
     "text": [
      " 50%|████████████████████████████████████████████████████████████████                                                                | 1/2 [16:41<16:41, 1001.56s/it]/Users/iskander/code/shared-virtual-env/lib/python3.12/site-packages/mhcflurry/amino_acid.py:132: FutureWarning: Downcasting behavior in `replace` is deprecated and will be removed in a future version. To retain the old behavior, explicitly call `result.infer_objects(copy=False)`. To opt-in to the future behavior, set `pd.set_option('future.no_silent_downcasting', True)`\n",
      "  result = df.replace(letter_to_index_dict)\n"
     ]
    },
    {
     "name": "stdout",
     "output_type": "stream",
     "text": [
      "3743/3743 [==============================] - 905s 242ms/step\n"
     ]
    },
    {
     "name": "stderr",
     "output_type": "stream",
     "text": [
      "100%|█████████████████████████████████████████████████████████████████████████████████████████████████████████████████████████████████| 2/2 [32:59<00:00, 989.73s/it]\n"
     ]
    }
   ],
   "source": [
    "import mhcflurry \n",
    "pred = mhcflurry.Class1PresentationPredictor().load()\n",
    "df_pred = pred.predict(list(df_peptides.peptide), alleles=[\"H2-Kb\", \"H2-Db\"])"
   ]
  },
  {
   "cell_type": "code",
   "execution_count": 34,
   "id": "9f3dab6d-bf87-433d-8772-b3b77a380377",
   "metadata": {},
   "outputs": [
    {
     "data": {
      "text/html": [
       "<div>\n",
       "<style scoped>\n",
       "    .dataframe tbody tr th:only-of-type {\n",
       "        vertical-align: middle;\n",
       "    }\n",
       "\n",
       "    .dataframe tbody tr th {\n",
       "        vertical-align: top;\n",
       "    }\n",
       "\n",
       "    .dataframe thead th {\n",
       "        text-align: right;\n",
       "    }\n",
       "</style>\n",
       "<table border=\"1\" class=\"dataframe\">\n",
       "  <thead>\n",
       "    <tr style=\"text-align: right;\">\n",
       "      <th></th>\n",
       "      <th>peptide</th>\n",
       "      <th>peptide_num</th>\n",
       "      <th>sample_name</th>\n",
       "      <th>affinity</th>\n",
       "      <th>best_allele</th>\n",
       "      <th>processing_score</th>\n",
       "      <th>presentation_score</th>\n",
       "      <th>presentation_percentile</th>\n",
       "    </tr>\n",
       "  </thead>\n",
       "  <tbody>\n",
       "    <tr>\n",
       "      <th>0</th>\n",
       "      <td>MCSGPGPG</td>\n",
       "      <td>0</td>\n",
       "      <td>sample1</td>\n",
       "      <td>27238.952145</td>\n",
       "      <td>H2-Kb</td>\n",
       "      <td>0.000256</td>\n",
       "      <td>0.003703</td>\n",
       "      <td>99.286603</td>\n",
       "    </tr>\n",
       "    <tr>\n",
       "      <th>1</th>\n",
       "      <td>CSGPGPGS</td>\n",
       "      <td>1</td>\n",
       "      <td>sample1</td>\n",
       "      <td>24759.293829</td>\n",
       "      <td>H2-Kb</td>\n",
       "      <td>0.000350</td>\n",
       "      <td>0.004062</td>\n",
       "      <td>62.744674</td>\n",
       "    </tr>\n",
       "    <tr>\n",
       "      <th>2</th>\n",
       "      <td>SGPGPGSF</td>\n",
       "      <td>2</td>\n",
       "      <td>sample1</td>\n",
       "      <td>4000.852173</td>\n",
       "      <td>H2-Kb</td>\n",
       "      <td>0.076324</td>\n",
       "      <td>0.030392</td>\n",
       "      <td>8.015652</td>\n",
       "    </tr>\n",
       "    <tr>\n",
       "      <th>3</th>\n",
       "      <td>GPGPGSFA</td>\n",
       "      <td>3</td>\n",
       "      <td>sample1</td>\n",
       "      <td>25551.819781</td>\n",
       "      <td>H2-Kb</td>\n",
       "      <td>0.007762</td>\n",
       "      <td>0.004044</td>\n",
       "      <td>62.744674</td>\n",
       "    </tr>\n",
       "    <tr>\n",
       "      <th>4</th>\n",
       "      <td>PGPGSFAT</td>\n",
       "      <td>4</td>\n",
       "      <td>sample1</td>\n",
       "      <td>25944.723804</td>\n",
       "      <td>H2-Kb</td>\n",
       "      <td>0.004395</td>\n",
       "      <td>0.003938</td>\n",
       "      <td>99.286603</td>\n",
       "    </tr>\n",
       "    <tr>\n",
       "      <th>...</th>\n",
       "      <td>...</td>\n",
       "      <td>...</td>\n",
       "      <td>...</td>\n",
       "      <td>...</td>\n",
       "      <td>...</td>\n",
       "      <td>...</td>\n",
       "      <td>...</td>\n",
       "      <td>...</td>\n",
       "    </tr>\n",
       "    <tr>\n",
       "      <th>15329160</th>\n",
       "      <td>DNVILLITAHC</td>\n",
       "      <td>15329160</td>\n",
       "      <td>sample1</td>\n",
       "      <td>26815.714720</td>\n",
       "      <td>H2-Kb</td>\n",
       "      <td>0.003451</td>\n",
       "      <td>0.003802</td>\n",
       "      <td>99.286603</td>\n",
       "    </tr>\n",
       "    <tr>\n",
       "      <th>15329161</th>\n",
       "      <td>NVILLITAHCT</td>\n",
       "      <td>15329161</td>\n",
       "      <td>sample1</td>\n",
       "      <td>28573.494144</td>\n",
       "      <td>H2-Kb</td>\n",
       "      <td>0.006022</td>\n",
       "      <td>0.003608</td>\n",
       "      <td>99.286603</td>\n",
       "    </tr>\n",
       "    <tr>\n",
       "      <th>15329162</th>\n",
       "      <td>VILLITAHCTS</td>\n",
       "      <td>15329162</td>\n",
       "      <td>sample1</td>\n",
       "      <td>28408.690877</td>\n",
       "      <td>H2-Kb</td>\n",
       "      <td>0.002364</td>\n",
       "      <td>0.003581</td>\n",
       "      <td>99.286603</td>\n",
       "    </tr>\n",
       "    <tr>\n",
       "      <th>15329163</th>\n",
       "      <td>ILLITAHCTSV</td>\n",
       "      <td>15329163</td>\n",
       "      <td>sample1</td>\n",
       "      <td>22988.379779</td>\n",
       "      <td>H2-Kb</td>\n",
       "      <td>0.017955</td>\n",
       "      <td>0.004644</td>\n",
       "      <td>62.744674</td>\n",
       "    </tr>\n",
       "    <tr>\n",
       "      <th>15329164</th>\n",
       "      <td>LLITAHCTSVQ</td>\n",
       "      <td>15329164</td>\n",
       "      <td>sample1</td>\n",
       "      <td>27770.669871</td>\n",
       "      <td>H2-Kb</td>\n",
       "      <td>0.003535</td>\n",
       "      <td>0.003676</td>\n",
       "      <td>99.286603</td>\n",
       "    </tr>\n",
       "  </tbody>\n",
       "</table>\n",
       "<p>15329165 rows × 8 columns</p>\n",
       "</div>"
      ],
      "text/plain": [
       "              peptide  peptide_num sample_name      affinity best_allele  \\\n",
       "0            MCSGPGPG            0     sample1  27238.952145       H2-Kb   \n",
       "1            CSGPGPGS            1     sample1  24759.293829       H2-Kb   \n",
       "2            SGPGPGSF            2     sample1   4000.852173       H2-Kb   \n",
       "3            GPGPGSFA            3     sample1  25551.819781       H2-Kb   \n",
       "4            PGPGSFAT            4     sample1  25944.723804       H2-Kb   \n",
       "...               ...          ...         ...           ...         ...   \n",
       "15329160  DNVILLITAHC     15329160     sample1  26815.714720       H2-Kb   \n",
       "15329161  NVILLITAHCT     15329161     sample1  28573.494144       H2-Kb   \n",
       "15329162  VILLITAHCTS     15329162     sample1  28408.690877       H2-Kb   \n",
       "15329163  ILLITAHCTSV     15329163     sample1  22988.379779       H2-Kb   \n",
       "15329164  LLITAHCTSVQ     15329164     sample1  27770.669871       H2-Kb   \n",
       "\n",
       "          processing_score  presentation_score  presentation_percentile  \n",
       "0                 0.000256            0.003703                99.286603  \n",
       "1                 0.000350            0.004062                62.744674  \n",
       "2                 0.076324            0.030392                 8.015652  \n",
       "3                 0.007762            0.004044                62.744674  \n",
       "4                 0.004395            0.003938                99.286603  \n",
       "...                    ...                 ...                      ...  \n",
       "15329160          0.003451            0.003802                99.286603  \n",
       "15329161          0.006022            0.003608                99.286603  \n",
       "15329162          0.002364            0.003581                99.286603  \n",
       "15329163          0.017955            0.004644                62.744674  \n",
       "15329164          0.003535            0.003676                99.286603  \n",
       "\n",
       "[15329165 rows x 8 columns]"
      ]
     },
     "execution_count": 34,
     "metadata": {},
     "output_type": "execute_result"
    }
   ],
   "source": [
    "df_pred"
   ]
  },
  {
   "cell_type": "code",
   "execution_count": 35,
   "id": "a6029488-c7f2-4bc0-a7f0-7ca87e199856",
   "metadata": {},
   "outputs": [
    {
     "data": {
      "text/html": [
       "<div>\n",
       "<style scoped>\n",
       "    .dataframe tbody tr th:only-of-type {\n",
       "        vertical-align: middle;\n",
       "    }\n",
       "\n",
       "    .dataframe tbody tr th {\n",
       "        vertical-align: top;\n",
       "    }\n",
       "\n",
       "    .dataframe thead th {\n",
       "        text-align: right;\n",
       "    }\n",
       "</style>\n",
       "<table border=\"1\" class=\"dataframe\">\n",
       "  <thead>\n",
       "    <tr style=\"text-align: right;\">\n",
       "      <th></th>\n",
       "      <th>peptide</th>\n",
       "      <th>peptide_len</th>\n",
       "      <th>source_seqs</th>\n",
       "      <th>source_orfs</th>\n",
       "      <th>source_reads</th>\n",
       "      <th>num_source_seqs</th>\n",
       "      <th>num_source_orfs</th>\n",
       "      <th>num_source_reads</th>\n",
       "    </tr>\n",
       "  </thead>\n",
       "  <tbody>\n",
       "    <tr>\n",
       "      <th>0</th>\n",
       "      <td>MCSGPGPG</td>\n",
       "      <td>8</td>\n",
       "      <td>MCSGPGPGSFATVAGDAKPRARSGLGQSFECVMASSSDSEDDSVMA...</td>\n",
       "      <td>ORF_645387_m84165_240529_114357_s1/100008387/c...</td>\n",
       "      <td>m84165_240529_114357_s1/100008387/ccs/6720_118...</td>\n",
       "      <td>1</td>\n",
       "      <td>1</td>\n",
       "      <td>1</td>\n",
       "    </tr>\n",
       "    <tr>\n",
       "      <th>1</th>\n",
       "      <td>CSGPGPGS</td>\n",
       "      <td>8</td>\n",
       "      <td>MCSGPGPGSFATVAGDAKPRARSGLGQSFECVMASSSDSEDDSVMA...</td>\n",
       "      <td>ORF_645387_m84165_240529_114357_s1/100008387/c...</td>\n",
       "      <td>m84165_240529_114357_s1/100008387/ccs/6720_118...</td>\n",
       "      <td>1</td>\n",
       "      <td>1</td>\n",
       "      <td>1</td>\n",
       "    </tr>\n",
       "    <tr>\n",
       "      <th>2</th>\n",
       "      <td>SGPGPGSF</td>\n",
       "      <td>8</td>\n",
       "      <td>MCSGPGPGSFATVAGDAKPRARSGLGQSFECVMASSSDSEDDSVMA...</td>\n",
       "      <td>ORF_645387_m84165_240529_114357_s1/100008387/c...</td>\n",
       "      <td>m84165_240529_114357_s1/100008387/ccs/6720_118...</td>\n",
       "      <td>1</td>\n",
       "      <td>1</td>\n",
       "      <td>1</td>\n",
       "    </tr>\n",
       "    <tr>\n",
       "      <th>3</th>\n",
       "      <td>GPGPGSFA</td>\n",
       "      <td>8</td>\n",
       "      <td>MCSGPGPGSFATVAGDAKPRARSGLGQSFECVMASSSDSEDDSVMA...</td>\n",
       "      <td>ORF_645387_m84165_240529_114357_s1/100008387/c...</td>\n",
       "      <td>m84165_240529_114357_s1/100008387/ccs/6720_118...</td>\n",
       "      <td>1</td>\n",
       "      <td>1</td>\n",
       "      <td>1</td>\n",
       "    </tr>\n",
       "    <tr>\n",
       "      <th>4</th>\n",
       "      <td>PGPGSFAT</td>\n",
       "      <td>8</td>\n",
       "      <td>MCSGPGPGSFATVAGDAKPRARSGLGQSFECVMASSSDSEDDSVMA...</td>\n",
       "      <td>ORF_645387_m84165_240529_114357_s1/100008387/c...</td>\n",
       "      <td>m84165_240529_114357_s1/100008387/ccs/6720_118...</td>\n",
       "      <td>1</td>\n",
       "      <td>1</td>\n",
       "      <td>1</td>\n",
       "    </tr>\n",
       "    <tr>\n",
       "      <th>...</th>\n",
       "      <td>...</td>\n",
       "      <td>...</td>\n",
       "      <td>...</td>\n",
       "      <td>...</td>\n",
       "      <td>...</td>\n",
       "      <td>...</td>\n",
       "      <td>...</td>\n",
       "      <td>...</td>\n",
       "    </tr>\n",
       "    <tr>\n",
       "      <th>15329160</th>\n",
       "      <td>DNVILLITAHC</td>\n",
       "      <td>11</td>\n",
       "      <td>MQRELSAAQGSPLLAATAAPPATLGGDGDRQRGRSDYERLESTPAA...</td>\n",
       "      <td>ORF_24_m84165_240529_114357_s1/99947067/ccs/27...</td>\n",
       "      <td>m84165_240529_114357_s1/99947067/ccs/2778_3720_1</td>\n",
       "      <td>1</td>\n",
       "      <td>1</td>\n",
       "      <td>1</td>\n",
       "    </tr>\n",
       "    <tr>\n",
       "      <th>15329161</th>\n",
       "      <td>NVILLITAHCT</td>\n",
       "      <td>11</td>\n",
       "      <td>MQRELSAAQGSPLLAATAAPPATLGGDGDRQRGRSDYERLESTPAA...</td>\n",
       "      <td>ORF_24_m84165_240529_114357_s1/99947067/ccs/27...</td>\n",
       "      <td>m84165_240529_114357_s1/99947067/ccs/2778_3720_1</td>\n",
       "      <td>1</td>\n",
       "      <td>1</td>\n",
       "      <td>1</td>\n",
       "    </tr>\n",
       "    <tr>\n",
       "      <th>15329162</th>\n",
       "      <td>VILLITAHCTS</td>\n",
       "      <td>11</td>\n",
       "      <td>MQRELSAAQGSPLLAATAAPPATLGGDGDRQRGRSDYERLESTPAA...</td>\n",
       "      <td>ORF_24_m84165_240529_114357_s1/99947067/ccs/27...</td>\n",
       "      <td>m84165_240529_114357_s1/99947067/ccs/2778_3720_1</td>\n",
       "      <td>1</td>\n",
       "      <td>1</td>\n",
       "      <td>1</td>\n",
       "    </tr>\n",
       "    <tr>\n",
       "      <th>15329163</th>\n",
       "      <td>ILLITAHCTSV</td>\n",
       "      <td>11</td>\n",
       "      <td>MQRELSAAQGSPLLAATAAPPATLGGDGDRQRGRSDYERLESTPAA...</td>\n",
       "      <td>ORF_24_m84165_240529_114357_s1/99947067/ccs/27...</td>\n",
       "      <td>m84165_240529_114357_s1/99947067/ccs/2778_3720_1</td>\n",
       "      <td>1</td>\n",
       "      <td>1</td>\n",
       "      <td>1</td>\n",
       "    </tr>\n",
       "    <tr>\n",
       "      <th>15329164</th>\n",
       "      <td>LLITAHCTSVQ</td>\n",
       "      <td>11</td>\n",
       "      <td>MQRELSAAQGSPLLAATAAPPATLGGDGDRQRGRSDYERLESTPAA...</td>\n",
       "      <td>ORF_24_m84165_240529_114357_s1/99947067/ccs/27...</td>\n",
       "      <td>m84165_240529_114357_s1/99947067/ccs/2778_3720_1</td>\n",
       "      <td>1</td>\n",
       "      <td>1</td>\n",
       "      <td>1</td>\n",
       "    </tr>\n",
       "  </tbody>\n",
       "</table>\n",
       "<p>15329165 rows × 8 columns</p>\n",
       "</div>"
      ],
      "text/plain": [
       "              peptide  peptide_len  \\\n",
       "0            MCSGPGPG            8   \n",
       "1            CSGPGPGS            8   \n",
       "2            SGPGPGSF            8   \n",
       "3            GPGPGSFA            8   \n",
       "4            PGPGSFAT            8   \n",
       "...               ...          ...   \n",
       "15329160  DNVILLITAHC           11   \n",
       "15329161  NVILLITAHCT           11   \n",
       "15329162  VILLITAHCTS           11   \n",
       "15329163  ILLITAHCTSV           11   \n",
       "15329164  LLITAHCTSVQ           11   \n",
       "\n",
       "                                                source_seqs  \\\n",
       "0         MCSGPGPGSFATVAGDAKPRARSGLGQSFECVMASSSDSEDDSVMA...   \n",
       "1         MCSGPGPGSFATVAGDAKPRARSGLGQSFECVMASSSDSEDDSVMA...   \n",
       "2         MCSGPGPGSFATVAGDAKPRARSGLGQSFECVMASSSDSEDDSVMA...   \n",
       "3         MCSGPGPGSFATVAGDAKPRARSGLGQSFECVMASSSDSEDDSVMA...   \n",
       "4         MCSGPGPGSFATVAGDAKPRARSGLGQSFECVMASSSDSEDDSVMA...   \n",
       "...                                                     ...   \n",
       "15329160  MQRELSAAQGSPLLAATAAPPATLGGDGDRQRGRSDYERLESTPAA...   \n",
       "15329161  MQRELSAAQGSPLLAATAAPPATLGGDGDRQRGRSDYERLESTPAA...   \n",
       "15329162  MQRELSAAQGSPLLAATAAPPATLGGDGDRQRGRSDYERLESTPAA...   \n",
       "15329163  MQRELSAAQGSPLLAATAAPPATLGGDGDRQRGRSDYERLESTPAA...   \n",
       "15329164  MQRELSAAQGSPLLAATAAPPATLGGDGDRQRGRSDYERLESTPAA...   \n",
       "\n",
       "                                                source_orfs  \\\n",
       "0         ORF_645387_m84165_240529_114357_s1/100008387/c...   \n",
       "1         ORF_645387_m84165_240529_114357_s1/100008387/c...   \n",
       "2         ORF_645387_m84165_240529_114357_s1/100008387/c...   \n",
       "3         ORF_645387_m84165_240529_114357_s1/100008387/c...   \n",
       "4         ORF_645387_m84165_240529_114357_s1/100008387/c...   \n",
       "...                                                     ...   \n",
       "15329160  ORF_24_m84165_240529_114357_s1/99947067/ccs/27...   \n",
       "15329161  ORF_24_m84165_240529_114357_s1/99947067/ccs/27...   \n",
       "15329162  ORF_24_m84165_240529_114357_s1/99947067/ccs/27...   \n",
       "15329163  ORF_24_m84165_240529_114357_s1/99947067/ccs/27...   \n",
       "15329164  ORF_24_m84165_240529_114357_s1/99947067/ccs/27...   \n",
       "\n",
       "                                               source_reads  num_source_seqs  \\\n",
       "0         m84165_240529_114357_s1/100008387/ccs/6720_118...                1   \n",
       "1         m84165_240529_114357_s1/100008387/ccs/6720_118...                1   \n",
       "2         m84165_240529_114357_s1/100008387/ccs/6720_118...                1   \n",
       "3         m84165_240529_114357_s1/100008387/ccs/6720_118...                1   \n",
       "4         m84165_240529_114357_s1/100008387/ccs/6720_118...                1   \n",
       "...                                                     ...              ...   \n",
       "15329160   m84165_240529_114357_s1/99947067/ccs/2778_3720_1                1   \n",
       "15329161   m84165_240529_114357_s1/99947067/ccs/2778_3720_1                1   \n",
       "15329162   m84165_240529_114357_s1/99947067/ccs/2778_3720_1                1   \n",
       "15329163   m84165_240529_114357_s1/99947067/ccs/2778_3720_1                1   \n",
       "15329164   m84165_240529_114357_s1/99947067/ccs/2778_3720_1                1   \n",
       "\n",
       "          num_source_orfs  num_source_reads  \n",
       "0                       1                 1  \n",
       "1                       1                 1  \n",
       "2                       1                 1  \n",
       "3                       1                 1  \n",
       "4                       1                 1  \n",
       "...                   ...               ...  \n",
       "15329160                1                 1  \n",
       "15329161                1                 1  \n",
       "15329162                1                 1  \n",
       "15329163                1                 1  \n",
       "15329164                1                 1  \n",
       "\n",
       "[15329165 rows x 8 columns]"
      ]
     },
     "execution_count": 35,
     "metadata": {},
     "output_type": "execute_result"
    }
   ],
   "source": [
    "df_peptides"
   ]
  },
  {
   "cell_type": "code",
   "execution_count": 36,
   "id": "6f47b179-3164-4df0-8d9c-9fa0b4e8210a",
   "metadata": {},
   "outputs": [],
   "source": [
    "df_merge = pd.merge(df_peptides, df_pred, left_on='peptide', right_on='peptide')"
   ]
  },
  {
   "cell_type": "code",
   "execution_count": null,
   "id": "ec4549f8-1fa2-4df2-bea2-df742b661068",
   "metadata": {},
   "outputs": [],
   "source": [
    "df_merge.to_csv(\"peptides-with-predictions.csv\")"
   ]
  },
  {
   "cell_type": "code",
   "execution_count": null,
   "id": "f6494ad9-192d-4294-9b7b-8675d75312d1",
   "metadata": {},
   "outputs": [],
   "source": [
    "df_top = df_merge[df_merge.presentation_percentile < 1]\n",
    "df_top "
   ]
  },
  {
   "cell_type": "code",
   "execution_count": null,
   "id": "f111ad26-27d0-4b00-8045-9bb4b56fc669",
   "metadata": {},
   "outputs": [],
   "source": []
  }
 ],
 "metadata": {
  "kernelspec": {
   "display_name": "Python 3 (ipykernel)",
   "language": "python",
   "name": "python3"
  },
  "language_info": {
   "codemirror_mode": {
    "name": "ipython",
    "version": 3
   },
   "file_extension": ".py",
   "mimetype": "text/x-python",
   "name": "python",
   "nbconvert_exporter": "python",
   "pygments_lexer": "ipython3",
   "version": "3.12.6"
  }
 },
 "nbformat": 4,
 "nbformat_minor": 5
}
