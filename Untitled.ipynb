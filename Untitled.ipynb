{
 "cells": [
  {
   "cell_type": "code",
   "execution_count": 1,
   "id": "b67a05d1-de6c-4ab8-b0c9-77381372b303",
   "metadata": {},
   "outputs": [],
   "source": [
    "from collections import defaultdict\n"
   ]
  },
  {
   "cell_type": "code",
   "execution_count": null,
   "id": "194eca8d-2191-4108-a390-3d3ae351d686",
   "metadata": {},
   "outputs": [],
   "source": [
    "\n",
    "read_ids_to_seqs = defaultdict(list)\n",
    "curr_id = None\n",
    "curr_lines = []\n",
    "with open(\"peptide_fragments.fa\") as f:\n",
    "    for l in f:\n",
    "        if l.startswith(\">\"):\n",
    "            if curr_id:\n",
    "                prot\n",
    "                read_ids_to_seqs["
   ]
  }
 ],
 "metadata": {
  "kernelspec": {
   "display_name": "Python 3 (ipykernel)",
   "language": "python",
   "name": "python3"
  },
  "language_info": {
   "codemirror_mode": {
    "name": "ipython",
    "version": 3
   },
   "file_extension": ".py",
   "mimetype": "text/x-python",
   "name": "python",
   "nbconvert_exporter": "python",
   "pygments_lexer": "ipython3",
   "version": "3.12.6"
  }
 },
 "nbformat": 4,
 "nbformat_minor": 5
}
